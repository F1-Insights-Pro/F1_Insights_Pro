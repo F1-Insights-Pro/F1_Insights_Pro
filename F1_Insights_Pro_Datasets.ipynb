{
 "cells": [
  {
   "cell_type": "markdown",
   "id": "3827a2c2",
   "metadata": {},
   "source": [
    "# F1 Insights Pro Python Datasets Script"
   ]
  },
  {
   "cell_type": "markdown",
   "id": "0b0a2ea6",
   "metadata": {},
   "source": [
    "Authors: \n",
    "    \n",
    "    María Isabel Rivera Portillo (23200796)\n",
    "    Diego Aymerich Pañero (23205295)\n",
    "    Chetan Damodar Nandanwar (2320097)\n",
    "    Alfred  John (23201995)"
   ]
  },
  {
   "cell_type": "markdown",
   "id": "66da4a34",
   "metadata": {},
   "source": [
    "Welcome to F1 Insights Pro Python Script. \n",
    "Through this python code, you will be able to clean and process the necessary data to execute the F1 Insights Pro data-driven tool. "
   ]
  },
  {
   "cell_type": "markdown",
   "id": "7b6e4b8b",
   "metadata": {},
   "source": [
    "# 1. Reading CSV Files"
   ]
  },
  {
   "cell_type": "code",
   "execution_count": 1,
   "id": "6b63d3bf",
   "metadata": {},
   "outputs": [],
   "source": [
    "# In case the user has not used the following library, please remove the # and execute the code. \n",
    "\n",
    "#!pip install pandas"
   ]
  },
  {
   "cell_type": "code",
   "execution_count": 114,
   "id": "83386ef1",
   "metadata": {},
   "outputs": [],
   "source": [
    "#Library Import\n",
    "import pandas as pd"
   ]
  },
  {
   "cell_type": "code",
   "execution_count": 3,
   "id": "e52d50ac",
   "metadata": {},
   "outputs": [],
   "source": [
    "# Folder path\n",
    "folder_path_2022 = '2022_F1_Data'\n",
    "folder_path_2023 = '2023_F1_Data'\n",
    "\n",
    "# File paths 2022\n",
    "calendar_path_2022 = f'{folder_path_2022}/Formula1_2022season_calendar.csv'\n",
    "drivers_path_2022 = f'{folder_path_2022}/Formula1_2022season_drivers.csv'\n",
    "qualifying_results_path_2022 = f'{folder_path_2022}/Formula1_2022season_qualifyingResults.csv'\n",
    "race_results_path_2022 = f'{folder_path_2022}/Formula1_2022season_raceResults.csv'\n",
    "teams_path_2022 = f'{folder_path_2022}/Formula1_2022season_teams.csv'\n",
    "\n",
    "# File paths 2023\n",
    "calendar_path_2023 = f'{folder_path_2023}/Formula1_2023season_calendar.csv'\n",
    "drivers_path_2023 = f'{folder_path_2023}/Formula1_2023season_drivers.csv'\n",
    "qualifying_results_path_2023 = f'{folder_path_2023}/Formula1_2023season_qualifyingResults.csv'\n",
    "race_results_path_2023 = f'{folder_path_2023}/Formula1_2023season_raceResults.csv'\n",
    "teams_path_2023 = f'{folder_path_2023}/Formula1_2023season_teams.csv'"
   ]
  },
  {
   "cell_type": "code",
   "execution_count": 4,
   "id": "e67ead28",
   "metadata": {},
   "outputs": [],
   "source": [
    "# Reading CSV files\n",
    "calendar2022_df = pd.read_csv(calendar_path_2022)\n",
    "drivers2022_df = pd.read_csv(drivers_path_2022)\n",
    "qualifying_results2022_df = pd.read_csv(qualifying_results_path_2022)\n",
    "race_results2022_df = pd.read_csv(race_results_path_2022)\n",
    "teams2022_df = pd.read_csv(teams_path_2022)\n",
    "F1_Insights_Pro_ranking_2022_df = pd.read_csv('F1_Insights_Pro_Ranking_2022.csv')\n",
    "\n",
    "calendar2023_df = pd.read_csv(calendar_path_2023)\n",
    "drivers2023_df = pd.read_csv(drivers_path_2023)\n",
    "qualifying_results2023_df = pd.read_csv(qualifying_results_path_2023)\n",
    "race_results2023_df = pd.read_csv(race_results_path_2023)\n",
    "teams2023_df = pd.read_csv(teams_path_2023)\n",
    "F1_Insights_Pro_ranking_2023_df = pd.read_csv('F1_Insights_Pro_Ranking_2023.csv')\n"
   ]
  },
  {
   "cell_type": "markdown",
   "id": "1e842b11",
   "metadata": {},
   "source": [
    "# ------------------------------------------------------------------------------------"
   ]
  },
  {
   "cell_type": "markdown",
   "id": "11b8ea99",
   "metadata": {},
   "source": [
    "# 2. 2022 Files Modifications "
   ]
  },
  {
   "cell_type": "markdown",
   "id": "70be0c50",
   "metadata": {},
   "source": [
    "2.1. Exploratory Data Analysis 2022"
   ]
  },
  {
   "cell_type": "code",
   "execution_count": 5,
   "id": "482d8101",
   "metadata": {},
   "outputs": [
    {
     "data": {
      "text/plain": [
       "Index(['Round', 'Race Date', 'GP Name', 'Country', 'City', 'Circuit Name',\n",
       "       'First GP', 'Number of Laps', 'Circuit Length(km)', 'Race Distance(km)',\n",
       "       'Lap Record', 'Record Owner', 'Record Year', 'Turns', 'DRS Zones'],\n",
       "      dtype='object')"
      ]
     },
     "execution_count": 5,
     "metadata": {},
     "output_type": "execute_result"
    }
   ],
   "source": [
    "calendar2022_df.columns"
   ]
  },
  {
   "cell_type": "code",
   "execution_count": 6,
   "id": "75c65f0b",
   "metadata": {},
   "outputs": [
    {
     "data": {
      "text/plain": [
       "Index(['Driver', 'Abbreviation', 'No', 'Team', 'Country', 'Podiums', 'Points',\n",
       "       'Grands Prix Entered', 'World Championships', 'Highest Race Finish',\n",
       "       'Highest Grid Position', 'Date of Birth', 'Place of Birth'],\n",
       "      dtype='object')"
      ]
     },
     "execution_count": 6,
     "metadata": {},
     "output_type": "execute_result"
    }
   ],
   "source": [
    "drivers2022_df.columns"
   ]
  },
  {
   "cell_type": "code",
   "execution_count": 7,
   "id": "246fff35",
   "metadata": {},
   "outputs": [
    {
     "data": {
      "text/plain": [
       "Index(['Track', 'Position', 'No', 'Driver', 'Team', 'Q1', 'Q2', 'Q3', 'Laps'], dtype='object')"
      ]
     },
     "execution_count": 7,
     "metadata": {},
     "output_type": "execute_result"
    }
   ],
   "source": [
    "qualifying_results2022_df.columns"
   ]
  },
  {
   "cell_type": "code",
   "execution_count": 8,
   "id": "6e595a65",
   "metadata": {},
   "outputs": [
    {
     "data": {
      "text/plain": [
       "Index(['Team', 'Full Team Name', 'Base', 'Team Chief', 'Technical Chief',\n",
       "       'Chassis', 'Power Unit', 'First Team Entry', 'World Championships',\n",
       "       'Highest Race Finish', 'Pole Positions', 'Fastest Laps'],\n",
       "      dtype='object')"
      ]
     },
     "execution_count": 8,
     "metadata": {},
     "output_type": "execute_result"
    }
   ],
   "source": [
    "teams2022_df.columns"
   ]
  },
  {
   "cell_type": "code",
   "execution_count": 9,
   "id": "d5a987b5",
   "metadata": {},
   "outputs": [
    {
     "data": {
      "text/plain": [
       "Index(['Track', 'Position', 'No', 'Driver', 'Team', 'Starting Grid', 'Laps',\n",
       "       'Time/Retired', 'Points', '+1 Pt', 'Fastest Lap'],\n",
       "      dtype='object')"
      ]
     },
     "execution_count": 9,
     "metadata": {},
     "output_type": "execute_result"
    }
   ],
   "source": [
    "race_results2022_df.columns"
   ]
  },
  {
   "cell_type": "markdown",
   "id": "e7850ced",
   "metadata": {},
   "source": [
    "# ------------------------------------------------------------------------------------"
   ]
  },
  {
   "cell_type": "markdown",
   "id": "4976c3c1",
   "metadata": {},
   "source": [
    "2.2 Race Results Modifications "
   ]
  },
  {
   "cell_type": "code",
   "execution_count": 10,
   "id": "2d59ae73",
   "metadata": {},
   "outputs": [
    {
     "data": {
      "text/plain": [
       "Index(['Track', 'Race Position', 'No', 'Driver', 'Team', 'Race Starting Grid',\n",
       "       'Race Laps', 'Race Time/Retired', 'Race Points', 'Race Fastest Lap'],\n",
       "      dtype='object')"
      ]
     },
     "execution_count": 10,
     "metadata": {},
     "output_type": "execute_result"
    }
   ],
   "source": [
    "# Renaming a column\n",
    "race_results2022_df.rename(columns={'Starting Grid': 'Race Starting Grid','Laps':'Race Laps', 'Points':'Race Points', 'Position':'Race Position', 'Fastest Lap': 'Race Fastest Lap', 'Time/Retired':'Race Time/Retired'}, inplace=True)\n",
    "\n",
    "# Delete the '+1 Pt' column\n",
    "race_results2022_df.drop(columns=['+1 Pt'], inplace=True)\n",
    "race_results2022_df.columns"
   ]
  },
  {
   "cell_type": "code",
   "execution_count": 11,
   "id": "56599a74",
   "metadata": {},
   "outputs": [
    {
     "data": {
      "text/plain": [
       "array(['Bahrain', 'Saudi Arabia', 'Australia', 'Emilia Romagna', 'Miami',\n",
       "       'Spain', 'Monaco', 'Azerbaijan', 'Canada', 'Great Britain',\n",
       "       'Austria', 'France', 'Hungary', 'Belgium', 'Netherlands', 'Italy',\n",
       "       'Singapore', 'Japan', 'United States', 'Mexico', 'Brazil',\n",
       "       'Abu Dhabi'], dtype=object)"
      ]
     },
     "execution_count": 11,
     "metadata": {},
     "output_type": "execute_result"
    }
   ],
   "source": [
    "race_results2022_df['Track'].unique()"
   ]
  },
  {
   "cell_type": "code",
   "execution_count": 12,
   "id": "78235865",
   "metadata": {},
   "outputs": [
    {
     "data": {
      "text/plain": [
       "array(['Bahrain International Circuit', 'Jeddah Corniche Circuit',\n",
       "       'Albert Park Circuit', 'Autodromo Enzo e Dino Ferrari',\n",
       "       'Miami International Autodrome', 'Circuit de Barcelona-Catalunya',\n",
       "       'Circuit de Monaco', 'Baku City Circuit',\n",
       "       'Circuit Gilles-Villeneuve', 'Silverstone Circuit',\n",
       "       'Red Bull Ring', 'Circuit Paul Ricard', 'Hungaroring',\n",
       "       'Circuit de Spa-Francorchamps', 'Circuit Zandvoort',\n",
       "       'Autodromo Nazionale Monza', 'Marina Bay Street Circuit',\n",
       "       'Suzuka International Racing Course', 'Circuit of the Americas',\n",
       "       'Autodromo Hermanos Rodriguez', 'Autodromo Jose Carlos Pace',\n",
       "       'Yas Marina Circuit'], dtype=object)"
      ]
     },
     "execution_count": 12,
     "metadata": {},
     "output_type": "execute_result"
    }
   ],
   "source": [
    "calendar2022_df['Circuit Name'].unique()"
   ]
  },
  {
   "cell_type": "code",
   "execution_count": 13,
   "id": "927d9569",
   "metadata": {},
   "outputs": [
    {
     "data": {
      "text/plain": [
       "array(['Bahrain International Circuit', 'Jeddah Corniche Circuit',\n",
       "       'Albert Park Circuit', 'Autodromo Enzo e Dino Ferrari',\n",
       "       'Miami International Autodrome', 'Circuit de Barcelona-Catalunya',\n",
       "       'Circuit de Monaco', 'Baku City Circuit',\n",
       "       'Circuit Gilles-Villeneuve', 'Silverstone Circuit',\n",
       "       'Red Bull Ring', 'Circuit Paul Ricard', 'Hungaroring',\n",
       "       'Circuit de Spa-Francorchamps', 'Circuit Zandvoort',\n",
       "       'Autodromo Nazionale Monza', 'Marina Bay Street Circuit',\n",
       "       'Suzuka International Racing Course', 'Circuit of the Americas',\n",
       "       'Autodromo Hermanos Rodriguez', 'Autodromo Jose Carlos Pace',\n",
       "       'Yas Marina Circuit'], dtype=object)"
      ]
     },
     "execution_count": 13,
     "metadata": {},
     "output_type": "execute_result"
    }
   ],
   "source": [
    "# Mapping dictionary to align track names to full circuit names\n",
    "track_name_mapping = {\n",
    "    'Bahrain': 'Bahrain International Circuit',\n",
    "    'Saudi Arabia': 'Jeddah Corniche Circuit',\n",
    "    'Australia': 'Albert Park Circuit',\n",
    "    'Emilia Romagna': 'Autodromo Enzo e Dino Ferrari',\n",
    "    'Miami': 'Miami International Autodrome',\n",
    "    'Spain': 'Circuit de Barcelona-Catalunya',\n",
    "    'Monaco': 'Circuit de Monaco',\n",
    "    'Azerbaijan': 'Baku City Circuit',\n",
    "    'Canada': 'Circuit Gilles-Villeneuve',\n",
    "    'Great Britain': 'Silverstone Circuit',\n",
    "    'Austria': 'Red Bull Ring',\n",
    "    'France': 'Circuit Paul Ricard',\n",
    "    'Hungary': 'Hungaroring',\n",
    "    'Belgium': 'Circuit de Spa-Francorchamps',\n",
    "    'Netherlands': 'Circuit Zandvoort',\n",
    "    'Italy': 'Autodromo Nazionale Monza',\n",
    "    'Singapore': 'Marina Bay Street Circuit',\n",
    "    'Japan': 'Suzuka International Racing Course',\n",
    "    'United States': 'Circuit of the Americas',\n",
    "    'Mexico': 'Autodromo Hermanos Rodriguez',\n",
    "    'Brazil': 'Autodromo Jose Carlos Pace',\n",
    "    'Abu Dhabi': 'Yas Marina Circuit'\n",
    "}\n",
    "\n",
    "# Applying the mapping to ensure consistency in track names\n",
    "race_results2022_df['Track'] = race_results2022_df['Track'].replace(track_name_mapping)\n",
    "race_results2022_df['Track'].unique()"
   ]
  },
  {
   "cell_type": "code",
   "execution_count": 14,
   "id": "72535ef5",
   "metadata": {},
   "outputs": [],
   "source": [
    "# Create country and city mappings (example mappings)\n",
    "track_to_country = {\n",
    "    'Bahrain International Circuit': 'Bahrain',\n",
    "    'Jeddah Corniche Circuit': 'Saudi Arabia',\n",
    "    'Albert Park Circuit': 'Australia',\n",
    "    'Autodromo Enzo e Dino Ferrari': 'Italy',\n",
    "    'Miami International Autodrome': 'United States',\n",
    "    'Circuit de Barcelona-Catalunya': 'Spain',\n",
    "    'Circuit de Monaco': 'Monaco',\n",
    "    'Baku City Circuit': 'Azerbaijan',\n",
    "    'Circuit Gilles-Villeneuve': 'Canada',\n",
    "    'Silverstone Circuit': 'United Kingdom',\n",
    "    'Red Bull Ring': 'Austria',\n",
    "    'Circuit Paul Ricard': 'France',\n",
    "    'Hungaroring': 'Hungary',\n",
    "    'Circuit de Spa-Francorchamps': 'Belgium',\n",
    "    'Circuit Zandvoort': 'Netherlands',\n",
    "    'Autodromo Nazionale Monza': 'Italy',\n",
    "    'Marina Bay Street Circuit': 'Singapore',\n",
    "    'Suzuka International Racing Course': 'Japan',\n",
    "    'Circuit of the Americas': 'United States',\n",
    "    'Autodromo Hermanos Rodriguez': 'Mexico',\n",
    "    'Autodromo Jose Carlos Pace': 'Brazil',\n",
    "    'Yas Marina Circuit': 'United Arab Emirates'\n",
    "}\n",
    "\n",
    "track_to_city = {\n",
    "    'Bahrain International Circuit': 'Sakhir',\n",
    "    'Jeddah Corniche Circuit': 'Jeddah',\n",
    "    'Albert Park Circuit': 'Melbourne',\n",
    "    'Autodromo Enzo e Dino Ferrari': 'Imola',\n",
    "    'Miami International Autodrome': 'Miami',\n",
    "    'Circuit de Barcelona-Catalunya': 'Barcelona',\n",
    "    'Circuit de Monaco': 'Monte Carlo',\n",
    "    'Baku City Circuit': 'Baku',\n",
    "    'Circuit Gilles-Villeneuve': 'Montreal',\n",
    "    'Silverstone Circuit': 'Silverstone',\n",
    "    'Red Bull Ring': 'Spielberg',\n",
    "    'Circuit Paul Ricard': 'Le Castellet',\n",
    "    'Hungaroring': 'Mogyoród',\n",
    "    'Circuit de Spa-Francorchamps': 'Spa',\n",
    "    'Circuit Zandvoort': 'Zandvoort',\n",
    "    'Autodromo Nazionale Monza': 'Monza',\n",
    "    'Marina Bay Street Circuit': 'Singapore',\n",
    "    'Suzuka International Racing Course': 'Suzuka',\n",
    "    'Circuit of the Americas': 'Austin',\n",
    "    'Autodromo Hermanos Rodriguez': 'Mexico City',\n",
    "    'Autodromo Jose Carlos Pace': 'São Paulo',\n",
    "    'Yas Marina Circuit': 'Abu Dhabi'\n",
    "}\n",
    "\n",
    "# Adding new columns for country and city\n",
    "race_results2022_df['Country'] = race_results2022_df['Track'].map(track_to_country)\n",
    "race_results2022_df['City'] = race_results2022_df['Track'].map(track_to_city)\n",
    "\n",
    "# Display the updated DataFrame to verify the changes\n",
    "race_results2022_df.rename(columns={'Track': 'Circuit Name'}, inplace=True)"
   ]
  },
  {
   "cell_type": "code",
   "execution_count": 15,
   "id": "cd2a7866",
   "metadata": {},
   "outputs": [
    {
     "data": {
      "text/html": [
       "<div>\n",
       "<style scoped>\n",
       "    .dataframe tbody tr th:only-of-type {\n",
       "        vertical-align: middle;\n",
       "    }\n",
       "\n",
       "    .dataframe tbody tr th {\n",
       "        vertical-align: top;\n",
       "    }\n",
       "\n",
       "    .dataframe thead th {\n",
       "        text-align: right;\n",
       "    }\n",
       "</style>\n",
       "<table border=\"1\" class=\"dataframe\">\n",
       "  <thead>\n",
       "    <tr style=\"text-align: right;\">\n",
       "      <th></th>\n",
       "      <th>Year</th>\n",
       "      <th>Country</th>\n",
       "      <th>City</th>\n",
       "      <th>Circuit Name</th>\n",
       "      <th>Race Position</th>\n",
       "      <th>No</th>\n",
       "      <th>Driver</th>\n",
       "      <th>Team</th>\n",
       "      <th>Race Starting Grid</th>\n",
       "      <th>Race Laps</th>\n",
       "      <th>Race Time/Retired</th>\n",
       "      <th>Race Points</th>\n",
       "      <th>Race Fastest Lap</th>\n",
       "    </tr>\n",
       "  </thead>\n",
       "  <tbody>\n",
       "    <tr>\n",
       "      <th>0</th>\n",
       "      <td>2022</td>\n",
       "      <td>Bahrain</td>\n",
       "      <td>Sakhir</td>\n",
       "      <td>Bahrain International Circuit</td>\n",
       "      <td>1</td>\n",
       "      <td>16</td>\n",
       "      <td>Charles Leclerc</td>\n",
       "      <td>Ferrari</td>\n",
       "      <td>1</td>\n",
       "      <td>57</td>\n",
       "      <td>1:37:33.584</td>\n",
       "      <td>26</td>\n",
       "      <td>1:34.570</td>\n",
       "    </tr>\n",
       "  </tbody>\n",
       "</table>\n",
       "</div>"
      ],
      "text/plain": [
       "   Year  Country    City                   Circuit Name Race Position  No  \\\n",
       "0  2022  Bahrain  Sakhir  Bahrain International Circuit             1  16   \n",
       "\n",
       "            Driver     Team  Race Starting Grid  Race Laps Race Time/Retired  \\\n",
       "0  Charles Leclerc  Ferrari                   1         57       1:37:33.584   \n",
       "\n",
       "   Race Points Race Fastest Lap  \n",
       "0           26         1:34.570  "
      ]
     },
     "execution_count": 15,
     "metadata": {},
     "output_type": "execute_result"
    }
   ],
   "source": [
    "# Add a new column 'Year' with the value 2022 for all rows\n",
    "race_results2022_df['Year'] = 2022\n",
    "\n",
    "# Reorder the columns\n",
    "race_results2022_df = race_results2022_df[['Year', 'Country', 'City', 'Circuit Name',\n",
    "                                           'Race Position', 'No', 'Driver', 'Team',\n",
    "                                           'Race Starting Grid', 'Race Laps', 'Race Time/Retired',\n",
    "                                           'Race Points', 'Race Fastest Lap']]\n",
    "race_results2022_df.head(1)\n"
   ]
  },
  {
   "cell_type": "code",
   "execution_count": 16,
   "id": "897ab0e8",
   "metadata": {
    "scrolled": true
   },
   "outputs": [
    {
     "data": {
      "text/html": [
       "<div>\n",
       "<style scoped>\n",
       "    .dataframe tbody tr th:only-of-type {\n",
       "        vertical-align: middle;\n",
       "    }\n",
       "\n",
       "    .dataframe tbody tr th {\n",
       "        vertical-align: top;\n",
       "    }\n",
       "\n",
       "    .dataframe thead th {\n",
       "        text-align: right;\n",
       "    }\n",
       "</style>\n",
       "<table border=\"1\" class=\"dataframe\">\n",
       "  <thead>\n",
       "    <tr style=\"text-align: right;\">\n",
       "      <th></th>\n",
       "      <th>Year</th>\n",
       "      <th>Country</th>\n",
       "      <th>City</th>\n",
       "      <th>Circuit Name</th>\n",
       "      <th>Race Position</th>\n",
       "      <th>No</th>\n",
       "      <th>Driver</th>\n",
       "      <th>Team</th>\n",
       "      <th>Race Starting Grid</th>\n",
       "      <th>Race Laps</th>\n",
       "      <th>Race Time/Retired</th>\n",
       "      <th>Race Points</th>\n",
       "      <th>Race Fastest Lap</th>\n",
       "      <th>Circuit_Driver</th>\n",
       "    </tr>\n",
       "  </thead>\n",
       "  <tbody>\n",
       "    <tr>\n",
       "      <th>0</th>\n",
       "      <td>2022</td>\n",
       "      <td>Bahrain</td>\n",
       "      <td>Sakhir</td>\n",
       "      <td>Bahrain International Circuit</td>\n",
       "      <td>1</td>\n",
       "      <td>16</td>\n",
       "      <td>Charles Leclerc</td>\n",
       "      <td>Ferrari</td>\n",
       "      <td>1</td>\n",
       "      <td>57</td>\n",
       "      <td>1:37:33.584</td>\n",
       "      <td>26</td>\n",
       "      <td>1:34.570</td>\n",
       "      <td>2022_Sakhir_Charles Leclerc</td>\n",
       "    </tr>\n",
       "  </tbody>\n",
       "</table>\n",
       "</div>"
      ],
      "text/plain": [
       "   Year  Country    City                   Circuit Name Race Position  No  \\\n",
       "0  2022  Bahrain  Sakhir  Bahrain International Circuit             1  16   \n",
       "\n",
       "            Driver     Team  Race Starting Grid  Race Laps Race Time/Retired  \\\n",
       "0  Charles Leclerc  Ferrari                   1         57       1:37:33.584   \n",
       "\n",
       "   Race Points Race Fastest Lap               Circuit_Driver  \n",
       "0           26         1:34.570  2022_Sakhir_Charles Leclerc  "
      ]
     },
     "execution_count": 16,
     "metadata": {},
     "output_type": "execute_result"
    }
   ],
   "source": [
    "# Calculate the key column based on Year, City, and Driver\n",
    "race_results2022_df['Circuit_Driver'] = race_results2022_df['Year'].astype(str) + '_' + race_results2022_df['City'] + '_' + race_results2022_df['Driver']\n",
    "race_results2022_df.head(1)"
   ]
  },
  {
   "cell_type": "markdown",
   "id": "178f89a4",
   "metadata": {},
   "source": [
    "# ------------------------------------------------------------------------------------"
   ]
  },
  {
   "cell_type": "markdown",
   "id": "5bc7f06c",
   "metadata": {},
   "source": [
    "2.3. Qualifying Results Modifications"
   ]
  },
  {
   "cell_type": "code",
   "execution_count": 17,
   "id": "9f500657",
   "metadata": {},
   "outputs": [
    {
     "data": {
      "text/plain": [
       "Index(['Track', 'Position', 'No', 'Driver', 'Team', 'Q1', 'Q2', 'Q3', 'Laps'], dtype='object')"
      ]
     },
     "execution_count": 17,
     "metadata": {},
     "output_type": "execute_result"
    }
   ],
   "source": [
    "qualifying_results2022_df.columns"
   ]
  },
  {
   "cell_type": "code",
   "execution_count": 18,
   "id": "b776405d",
   "metadata": {},
   "outputs": [
    {
     "data": {
      "text/plain": [
       "array(['Bahrain', 'Saudi Arabia', 'Australia', 'Emilia Romagna', 'Miami',\n",
       "       'Spain', 'Monaco', 'Azerbaijan', 'Canada', 'Great Britain',\n",
       "       'Austria', 'France', 'Hungary', 'Belgium', 'Netherlands', 'Italy',\n",
       "       'Singapore', 'Japan', 'United States', 'Mexico', 'Brazil',\n",
       "       'Abu Dhabi'], dtype=object)"
      ]
     },
     "execution_count": 18,
     "metadata": {},
     "output_type": "execute_result"
    }
   ],
   "source": [
    "# Renaming a column\n",
    "qualifying_results2022_df.rename(columns={'Laps':'Qualifying Laps', 'Position': 'Qualifying Position'}, inplace=True)\n",
    "\n",
    "qualifying_results2022_df['Track'].unique()                                     "
   ]
  },
  {
   "cell_type": "code",
   "execution_count": 19,
   "id": "6100b782",
   "metadata": {},
   "outputs": [],
   "source": [
    "# Mapping dictionary to align track names to full circuit names\n",
    "track_qualy_mapping = {\n",
    "    'Bahrain': 'Bahrain International Circuit',\n",
    "    'Saudi Arabia': 'Jeddah Corniche Circuit',\n",
    "    'Australia': 'Albert Park Circuit',\n",
    "    'Emilia Romagna': 'Autodromo Enzo e Dino Ferrari',\n",
    "    'Miami': 'Miami International Autodrome',\n",
    "    'Spain': 'Circuit de Barcelona-Catalunya',\n",
    "    'Monaco': 'Circuit de Monaco',\n",
    "    'Azerbaijan': 'Baku City Circuit',\n",
    "    'Canada': 'Circuit Gilles-Villeneuve',\n",
    "    'Great Britain': 'Silverstone Circuit',\n",
    "    'Austria': 'Red Bull Ring',\n",
    "    'France': 'Circuit Paul Ricard',\n",
    "    'Hungary': 'Hungaroring',\n",
    "    'Belgium': 'Circuit de Spa-Francorchamps',\n",
    "    'Netherlands': 'Circuit Zandvoort',\n",
    "    'Italy': 'Autodromo Nazionale Monza',\n",
    "    'Singapore': 'Marina Bay Street Circuit',\n",
    "    'Japan': 'Suzuka International Racing Course',\n",
    "    'United States': 'Circuit of the Americas',\n",
    "    'Mexico': 'Autodromo Hermanos Rodriguez',\n",
    "    'Brazil': 'Autodromo Jose Carlos Pace',\n",
    "    'Abu Dhabi': 'Yas Marina Circuit'\n",
    "}\n",
    "\n",
    "# Applying the mapping to ensure consistency in track names\n",
    "qualifying_results2022_df['Track'] = qualifying_results2022_df['Track'].replace(track_qualy_mapping)"
   ]
  },
  {
   "cell_type": "code",
   "execution_count": 20,
   "id": "13cc333c",
   "metadata": {},
   "outputs": [],
   "source": [
    "# Create country and city mappings (example mappings)\n",
    "track_qualy_to_country = {\n",
    "    'Bahrain International Circuit': 'Bahrain',\n",
    "    'Jeddah Corniche Circuit': 'Saudi Arabia',\n",
    "    'Albert Park Circuit': 'Australia',\n",
    "    'Autodromo Enzo e Dino Ferrari': 'Italy',\n",
    "    'Miami International Autodrome': 'United States',\n",
    "    'Circuit de Barcelona-Catalunya': 'Spain',\n",
    "    'Circuit de Monaco': 'Monaco',\n",
    "    'Baku City Circuit': 'Azerbaijan',\n",
    "    'Circuit Gilles-Villeneuve': 'Canada',\n",
    "    'Silverstone Circuit': 'United Kingdom',\n",
    "    'Red Bull Ring': 'Austria',\n",
    "    'Circuit Paul Ricard': 'France',\n",
    "    'Hungaroring': 'Hungary',\n",
    "    'Circuit de Spa-Francorchamps': 'Belgium',\n",
    "    'Circuit Zandvoort': 'Netherlands',\n",
    "    'Autodromo Nazionale Monza': 'Italy',\n",
    "    'Marina Bay Street Circuit': 'Singapore',\n",
    "    'Suzuka International Racing Course': 'Japan',\n",
    "    'Circuit of the Americas': 'United States',\n",
    "    'Autodromo Hermanos Rodriguez': 'Mexico',\n",
    "    'Autodromo Jose Carlos Pace': 'Brazil',\n",
    "    'Yas Marina Circuit': 'United Arab Emirates'\n",
    "}\n",
    "\n",
    "track_qualy_to_city = {\n",
    "    'Bahrain International Circuit': 'Sakhir',\n",
    "    'Jeddah Corniche Circuit': 'Jeddah',\n",
    "    'Albert Park Circuit': 'Melbourne',\n",
    "    'Autodromo Enzo e Dino Ferrari': 'Imola',\n",
    "    'Miami International Autodrome': 'Miami',\n",
    "    'Circuit de Barcelona-Catalunya': 'Barcelona',\n",
    "    'Circuit de Monaco': 'Monte Carlo',\n",
    "    'Baku City Circuit': 'Baku',\n",
    "    'Circuit Gilles-Villeneuve': 'Montreal',\n",
    "    'Silverstone Circuit': 'Silverstone',\n",
    "    'Red Bull Ring': 'Spielberg',\n",
    "    'Circuit Paul Ricard': 'Le Castellet',\n",
    "    'Hungaroring': 'Mogyoród',\n",
    "    'Circuit de Spa-Francorchamps': 'Spa',\n",
    "    'Circuit Zandvoort': 'Zandvoort',\n",
    "    'Autodromo Nazionale Monza': 'Monza',\n",
    "    'Marina Bay Street Circuit': 'Singapore',\n",
    "    'Suzuka International Racing Course': 'Suzuka',\n",
    "    'Circuit of the Americas': 'Austin',\n",
    "    'Autodromo Hermanos Rodriguez': 'Mexico City',\n",
    "    'Autodromo Jose Carlos Pace': 'São Paulo',\n",
    "    'Yas Marina Circuit': 'Abu Dhabi'\n",
    "}\n",
    "\n",
    "# Adding new columns for country and city\n",
    "qualifying_results2022_df['Country'] = qualifying_results2022_df['Track'].map(track_qualy_to_country)\n",
    "qualifying_results2022_df['City'] = qualifying_results2022_df['Track'].map(track_qualy_to_city)\n",
    "\n",
    "# Display the updated DataFrame to verify the changes\n",
    "qualifying_results2022_df.rename(columns={'Track': 'Circuit Name'}, inplace=True)"
   ]
  },
  {
   "cell_type": "code",
   "execution_count": 21,
   "id": "d6918246",
   "metadata": {
    "scrolled": true
   },
   "outputs": [
    {
     "data": {
      "text/html": [
       "<div>\n",
       "<style scoped>\n",
       "    .dataframe tbody tr th:only-of-type {\n",
       "        vertical-align: middle;\n",
       "    }\n",
       "\n",
       "    .dataframe tbody tr th {\n",
       "        vertical-align: top;\n",
       "    }\n",
       "\n",
       "    .dataframe thead th {\n",
       "        text-align: right;\n",
       "    }\n",
       "</style>\n",
       "<table border=\"1\" class=\"dataframe\">\n",
       "  <thead>\n",
       "    <tr style=\"text-align: right;\">\n",
       "      <th></th>\n",
       "      <th>Circuit Name</th>\n",
       "      <th>Qualifying Position</th>\n",
       "      <th>No</th>\n",
       "      <th>Driver</th>\n",
       "      <th>Team</th>\n",
       "      <th>Q1</th>\n",
       "      <th>Q2</th>\n",
       "      <th>Q3</th>\n",
       "      <th>Qualifying Laps</th>\n",
       "      <th>Country</th>\n",
       "      <th>City</th>\n",
       "      <th>Year</th>\n",
       "      <th>Circuit_Driver</th>\n",
       "    </tr>\n",
       "  </thead>\n",
       "  <tbody>\n",
       "    <tr>\n",
       "      <th>0</th>\n",
       "      <td>Bahrain International Circuit</td>\n",
       "      <td>1</td>\n",
       "      <td>16</td>\n",
       "      <td>Charles Leclerc</td>\n",
       "      <td>Ferrari</td>\n",
       "      <td>1:31.471</td>\n",
       "      <td>1:30.932</td>\n",
       "      <td>1:30.558</td>\n",
       "      <td>15</td>\n",
       "      <td>Bahrain</td>\n",
       "      <td>Sakhir</td>\n",
       "      <td>2022</td>\n",
       "      <td>2022_Sakhir_Charles Leclerc</td>\n",
       "    </tr>\n",
       "  </tbody>\n",
       "</table>\n",
       "</div>"
      ],
      "text/plain": [
       "                    Circuit Name Qualifying Position  No           Driver  \\\n",
       "0  Bahrain International Circuit                   1  16  Charles Leclerc   \n",
       "\n",
       "      Team        Q1        Q2        Q3  Qualifying Laps  Country    City  \\\n",
       "0  Ferrari  1:31.471  1:30.932  1:30.558               15  Bahrain  Sakhir   \n",
       "\n",
       "   Year               Circuit_Driver  \n",
       "0  2022  2022_Sakhir_Charles Leclerc  "
      ]
     },
     "execution_count": 21,
     "metadata": {},
     "output_type": "execute_result"
    }
   ],
   "source": [
    "# Add a new column 'Year' with the value 2022 for all rows\n",
    "qualifying_results2022_df['Year'] = 2022\n",
    "\n",
    "# Calculate the key column based on Year, City, and Driver\n",
    "qualifying_results2022_df['Circuit_Driver'] = qualifying_results2022_df['Year'].astype(str) + '_' + qualifying_results2022_df['City'] + '_' + qualifying_results2022_df['Driver']\n",
    "qualifying_results2022_df.head(1)"
   ]
  },
  {
   "cell_type": "markdown",
   "id": "f77ba689",
   "metadata": {},
   "source": [
    "# ------------------------------------------------------------------------------------"
   ]
  },
  {
   "cell_type": "markdown",
   "id": "fc53f5d0",
   "metadata": {},
   "source": [
    "2.4. Drivers File Modification"
   ]
  },
  {
   "cell_type": "code",
   "execution_count": 22,
   "id": "60beab7c",
   "metadata": {},
   "outputs": [
    {
     "data": {
      "text/html": [
       "<div>\n",
       "<style scoped>\n",
       "    .dataframe tbody tr th:only-of-type {\n",
       "        vertical-align: middle;\n",
       "    }\n",
       "\n",
       "    .dataframe tbody tr th {\n",
       "        vertical-align: top;\n",
       "    }\n",
       "\n",
       "    .dataframe thead th {\n",
       "        text-align: right;\n",
       "    }\n",
       "</style>\n",
       "<table border=\"1\" class=\"dataframe\">\n",
       "  <thead>\n",
       "    <tr style=\"text-align: right;\">\n",
       "      <th></th>\n",
       "      <th>Driver</th>\n",
       "      <th>Abbreviation</th>\n",
       "      <th>No</th>\n",
       "      <th>Team</th>\n",
       "      <th>Country</th>\n",
       "      <th>Podiums</th>\n",
       "      <th>Points</th>\n",
       "      <th>Grands Prix Entered</th>\n",
       "      <th>World Championships</th>\n",
       "      <th>Highest Race Finish</th>\n",
       "      <th>Highest Grid Position</th>\n",
       "      <th>Date of Birth</th>\n",
       "      <th>Place of Birth</th>\n",
       "    </tr>\n",
       "  </thead>\n",
       "  <tbody>\n",
       "    <tr>\n",
       "      <th>0</th>\n",
       "      <td>Max Verstappen</td>\n",
       "      <td>VER</td>\n",
       "      <td>1</td>\n",
       "      <td>Red Bull Racing</td>\n",
       "      <td>Netherlands</td>\n",
       "      <td>77</td>\n",
       "      <td>2011.5</td>\n",
       "      <td>163</td>\n",
       "      <td>2</td>\n",
       "      <td>1(x35)</td>\n",
       "      <td>1</td>\n",
       "      <td>30/09/1997</td>\n",
       "      <td>Hasselt,Belgium</td>\n",
       "    </tr>\n",
       "  </tbody>\n",
       "</table>\n",
       "</div>"
      ],
      "text/plain": [
       "           Driver Abbreviation  No             Team      Country  Podiums  \\\n",
       "0  Max Verstappen          VER   1  Red Bull Racing  Netherlands       77   \n",
       "\n",
       "   Points  Grands Prix Entered  World Championships Highest Race Finish  \\\n",
       "0  2011.5                  163                    2              1(x35)   \n",
       "\n",
       "   Highest Grid Position Date of Birth   Place of Birth  \n",
       "0                      1    30/09/1997  Hasselt,Belgium  "
      ]
     },
     "execution_count": 22,
     "metadata": {},
     "output_type": "execute_result"
    }
   ],
   "source": [
    "drivers2022_df.head(1)"
   ]
  },
  {
   "cell_type": "code",
   "execution_count": 23,
   "id": "6fecc9f3",
   "metadata": {},
   "outputs": [
    {
     "data": {
      "text/html": [
       "<div>\n",
       "<style scoped>\n",
       "    .dataframe tbody tr th:only-of-type {\n",
       "        vertical-align: middle;\n",
       "    }\n",
       "\n",
       "    .dataframe tbody tr th {\n",
       "        vertical-align: top;\n",
       "    }\n",
       "\n",
       "    .dataframe thead th {\n",
       "        text-align: right;\n",
       "    }\n",
       "</style>\n",
       "<table border=\"1\" class=\"dataframe\">\n",
       "  <thead>\n",
       "    <tr style=\"text-align: right;\">\n",
       "      <th></th>\n",
       "      <th>Driver</th>\n",
       "      <th>Abbreviation</th>\n",
       "      <th>No</th>\n",
       "      <th>Team</th>\n",
       "      <th>Country</th>\n",
       "      <th>Podiums</th>\n",
       "      <th>Points</th>\n",
       "      <th>Grands Prix Entered</th>\n",
       "      <th>World Championships</th>\n",
       "      <th>Highest Race Finish</th>\n",
       "      <th>Highest Grid Position</th>\n",
       "      <th>Date of Birth</th>\n",
       "      <th>Place of Birth</th>\n",
       "      <th>Nº of Highest Race Finish</th>\n",
       "    </tr>\n",
       "  </thead>\n",
       "  <tbody>\n",
       "    <tr>\n",
       "      <th>0</th>\n",
       "      <td>Max Verstappen</td>\n",
       "      <td>VER</td>\n",
       "      <td>1</td>\n",
       "      <td>Red Bull Racing</td>\n",
       "      <td>Netherlands</td>\n",
       "      <td>77</td>\n",
       "      <td>2011.5</td>\n",
       "      <td>163</td>\n",
       "      <td>2</td>\n",
       "      <td>1</td>\n",
       "      <td>1</td>\n",
       "      <td>30/09/1997</td>\n",
       "      <td>Hasselt,Belgium</td>\n",
       "      <td>35</td>\n",
       "    </tr>\n",
       "  </tbody>\n",
       "</table>\n",
       "</div>"
      ],
      "text/plain": [
       "           Driver Abbreviation  No             Team      Country  Podiums  \\\n",
       "0  Max Verstappen          VER   1  Red Bull Racing  Netherlands       77   \n",
       "\n",
       "   Points  Grands Prix Entered  World Championships  Highest Race Finish  \\\n",
       "0  2011.5                  163                    2                    1   \n",
       "\n",
       "   Highest Grid Position Date of Birth   Place of Birth  \\\n",
       "0                      1    30/09/1997  Hasselt,Belgium   \n",
       "\n",
       "   Nº of Highest Race Finish  \n",
       "0                         35  "
      ]
     },
     "execution_count": 23,
     "metadata": {},
     "output_type": "execute_result"
    }
   ],
   "source": [
    "# Splitting the 'Highest Race Finish' column\n",
    "drivers2022_df[['Highest Race Finish', 'Nº of Highest Race Finish']] = drivers2022_df['Highest Race Finish'].str.extract(r'(\\d+)\\(x(\\d+)\\)')\n",
    "# Convert the new columns to integer type\n",
    "drivers2022_df['Highest Race Finish'] = drivers2022_df['Highest Race Finish'].astype(int)\n",
    "drivers2022_df['Nº of Highest Race Finish'] = drivers2022_df['Nº of Highest Race Finish'].astype(int)\n",
    "\n",
    "drivers2022_df.head(1)"
   ]
  },
  {
   "cell_type": "markdown",
   "id": "d07a053d",
   "metadata": {},
   "source": [
    "# ------------------------------------------------------------------------------------"
   ]
  },
  {
   "cell_type": "markdown",
   "id": "addd233a",
   "metadata": {},
   "source": [
    "5. Teams File Modification"
   ]
  },
  {
   "cell_type": "code",
   "execution_count": 24,
   "id": "d32700c6",
   "metadata": {},
   "outputs": [
    {
     "data": {
      "text/html": [
       "<div>\n",
       "<style scoped>\n",
       "    .dataframe tbody tr th:only-of-type {\n",
       "        vertical-align: middle;\n",
       "    }\n",
       "\n",
       "    .dataframe tbody tr th {\n",
       "        vertical-align: top;\n",
       "    }\n",
       "\n",
       "    .dataframe thead th {\n",
       "        text-align: right;\n",
       "    }\n",
       "</style>\n",
       "<table border=\"1\" class=\"dataframe\">\n",
       "  <thead>\n",
       "    <tr style=\"text-align: right;\">\n",
       "      <th></th>\n",
       "      <th>Team</th>\n",
       "      <th>Full Team Name</th>\n",
       "      <th>Base</th>\n",
       "      <th>Team Chief</th>\n",
       "      <th>Technical Chief</th>\n",
       "      <th>Chassis</th>\n",
       "      <th>Power Unit</th>\n",
       "      <th>First Team Entry</th>\n",
       "      <th>World Championships</th>\n",
       "      <th>Highest Race Finish</th>\n",
       "      <th>Pole Positions</th>\n",
       "      <th>Fastest Laps</th>\n",
       "    </tr>\n",
       "  </thead>\n",
       "  <tbody>\n",
       "    <tr>\n",
       "      <th>0</th>\n",
       "      <td>Red Bull Racing</td>\n",
       "      <td>Oracle Red Bull Racing</td>\n",
       "      <td>Milton Keynes, United Kingdom</td>\n",
       "      <td>Christian Horner</td>\n",
       "      <td>Pierre Waché</td>\n",
       "      <td>RB18</td>\n",
       "      <td>Red Bull Powertrains</td>\n",
       "      <td>1997</td>\n",
       "      <td>5</td>\n",
       "      <td>1(x92)</td>\n",
       "      <td>81</td>\n",
       "      <td>84</td>\n",
       "    </tr>\n",
       "  </tbody>\n",
       "</table>\n",
       "</div>"
      ],
      "text/plain": [
       "              Team          Full Team Name                           Base  \\\n",
       "0  Red Bull Racing  Oracle Red Bull Racing  Milton Keynes, United Kingdom   \n",
       "\n",
       "         Team Chief Technical Chief Chassis            Power Unit  \\\n",
       "0  Christian Horner    Pierre Waché    RB18  Red Bull Powertrains   \n",
       "\n",
       "   First Team Entry  World Championships Highest Race Finish  Pole Positions  \\\n",
       "0              1997                    5              1(x92)              81   \n",
       "\n",
       "   Fastest Laps  \n",
       "0            84  "
      ]
     },
     "execution_count": 24,
     "metadata": {},
     "output_type": "execute_result"
    }
   ],
   "source": [
    "teams2022_df.head(1)"
   ]
  },
  {
   "cell_type": "code",
   "execution_count": 25,
   "id": "b5819939",
   "metadata": {},
   "outputs": [
    {
     "data": {
      "text/plain": [
       "Index(['Team', 'Full Team Name', 'Base', 'Team Chief', 'Technical Chief',\n",
       "       'Chassis', 'Power Unit', 'First Team Entry', 'World Championships',\n",
       "       'Highest Race Finish', 'Pole Positions', 'Fastest Laps'],\n",
       "      dtype='object')"
      ]
     },
     "execution_count": 25,
     "metadata": {},
     "output_type": "execute_result"
    }
   ],
   "source": [
    "teams2022_df.columns"
   ]
  },
  {
   "cell_type": "code",
   "execution_count": 26,
   "id": "70b5c5e6",
   "metadata": {},
   "outputs": [
    {
     "data": {
      "text/plain": [
       "array(['Red Bull Racing', 'Ferrari', 'Mercedes', 'Alpine', 'McLaren',\n",
       "       'Alfa Romeo', 'Aston Martin', 'Haas', 'AlphaTauri', 'Williams'],\n",
       "      dtype=object)"
      ]
     },
     "execution_count": 26,
     "metadata": {},
     "output_type": "execute_result"
    }
   ],
   "source": [
    "teams2022_df['Team'].unique()"
   ]
  },
  {
   "cell_type": "code",
   "execution_count": 27,
   "id": "65d18621",
   "metadata": {},
   "outputs": [
    {
     "data": {
      "text/html": [
       "<div>\n",
       "<style scoped>\n",
       "    .dataframe tbody tr th:only-of-type {\n",
       "        vertical-align: middle;\n",
       "    }\n",
       "\n",
       "    .dataframe tbody tr th {\n",
       "        vertical-align: top;\n",
       "    }\n",
       "\n",
       "    .dataframe thead th {\n",
       "        text-align: right;\n",
       "    }\n",
       "</style>\n",
       "<table border=\"1\" class=\"dataframe\">\n",
       "  <thead>\n",
       "    <tr style=\"text-align: right;\">\n",
       "      <th></th>\n",
       "      <th>Team</th>\n",
       "      <th>Full Team Name</th>\n",
       "      <th>Base</th>\n",
       "      <th>Team Chief</th>\n",
       "      <th>Technical Chief</th>\n",
       "      <th>Chassis</th>\n",
       "      <th>Power Unit</th>\n",
       "      <th>First Team Entry</th>\n",
       "      <th>World Championships</th>\n",
       "      <th>Highest Race Finish</th>\n",
       "      <th>Pole Positions</th>\n",
       "      <th>Fastest Laps</th>\n",
       "    </tr>\n",
       "  </thead>\n",
       "  <tbody>\n",
       "    <tr>\n",
       "      <th>0</th>\n",
       "      <td>Red Bull Racing RBPT</td>\n",
       "      <td>Oracle Red Bull Racing</td>\n",
       "      <td>Milton Keynes, United Kingdom</td>\n",
       "      <td>Christian Horner</td>\n",
       "      <td>Pierre Waché</td>\n",
       "      <td>RB18</td>\n",
       "      <td>Red Bull Powertrains</td>\n",
       "      <td>1997</td>\n",
       "      <td>5</td>\n",
       "      <td>1(x92)</td>\n",
       "      <td>81</td>\n",
       "      <td>84</td>\n",
       "    </tr>\n",
       "  </tbody>\n",
       "</table>\n",
       "</div>"
      ],
      "text/plain": [
       "                   Team          Full Team Name  \\\n",
       "0  Red Bull Racing RBPT  Oracle Red Bull Racing   \n",
       "\n",
       "                            Base        Team Chief Technical Chief Chassis  \\\n",
       "0  Milton Keynes, United Kingdom  Christian Horner    Pierre Waché    RB18   \n",
       "\n",
       "             Power Unit  First Team Entry  World Championships  \\\n",
       "0  Red Bull Powertrains              1997                    5   \n",
       "\n",
       "  Highest Race Finish  Pole Positions  Fastest Laps  \n",
       "0              1(x92)              81            84  "
      ]
     },
     "execution_count": 27,
     "metadata": {},
     "output_type": "execute_result"
    }
   ],
   "source": [
    "# Example dictionary mapping original team names to desired names\n",
    "team_name_mapping = {\n",
    "    'Red Bull Racing': 'Red Bull Racing RBPT',\n",
    "    'Ferrari': 'Ferrari',\n",
    "    'Mercedes': 'Mercedes',\n",
    "    'Alpine': 'Alpine Renault',\n",
    "    'McLaren': 'McLaren Mercedes',\n",
    "    'Alfa Romeo': 'Alfa Romeo Ferrari',\n",
    "    'Aston Martin': 'Aston Martin Aramco Mercedes',\n",
    "    'Haas': 'Haas Ferrari',\n",
    "    'AlphaTauri': 'AlphaTauri RBPT',\n",
    "    'Williams': 'Williams Mercedes'\n",
    "}\n",
    "\n",
    "# Apply the mapping to create a new 'Team Name' column\n",
    "teams2022_df['Team'] = teams2022_df['Team'].map(team_name_mapping)\n",
    "teams2022_df.head(1)"
   ]
  },
  {
   "cell_type": "code",
   "execution_count": 28,
   "id": "d6e723e2",
   "metadata": {},
   "outputs": [
    {
     "data": {
      "text/html": [
       "<div>\n",
       "<style scoped>\n",
       "    .dataframe tbody tr th:only-of-type {\n",
       "        vertical-align: middle;\n",
       "    }\n",
       "\n",
       "    .dataframe tbody tr th {\n",
       "        vertical-align: top;\n",
       "    }\n",
       "\n",
       "    .dataframe thead th {\n",
       "        text-align: right;\n",
       "    }\n",
       "</style>\n",
       "<table border=\"1\" class=\"dataframe\">\n",
       "  <thead>\n",
       "    <tr style=\"text-align: right;\">\n",
       "      <th></th>\n",
       "      <th>Team</th>\n",
       "      <th>First Team Entry</th>\n",
       "      <th>World Championships</th>\n",
       "      <th>Highest Race Finish</th>\n",
       "      <th>Pole Positions</th>\n",
       "      <th>Fastest Laps</th>\n",
       "      <th>Nº of Highest Race Finish</th>\n",
       "    </tr>\n",
       "  </thead>\n",
       "  <tbody>\n",
       "    <tr>\n",
       "      <th>0</th>\n",
       "      <td>Red Bull Racing RBPT</td>\n",
       "      <td>1997</td>\n",
       "      <td>5</td>\n",
       "      <td>1</td>\n",
       "      <td>81</td>\n",
       "      <td>84</td>\n",
       "      <td>92</td>\n",
       "    </tr>\n",
       "  </tbody>\n",
       "</table>\n",
       "</div>"
      ],
      "text/plain": [
       "                   Team  First Team Entry  World Championships  \\\n",
       "0  Red Bull Racing RBPT              1997                    5   \n",
       "\n",
       "   Highest Race Finish  Pole Positions  Fastest Laps  \\\n",
       "0                    1              81            84   \n",
       "\n",
       "   Nº of Highest Race Finish  \n",
       "0                         92  "
      ]
     },
     "execution_count": 28,
     "metadata": {},
     "output_type": "execute_result"
    }
   ],
   "source": [
    "# Dropping the specified columns\n",
    "columns_to_drop = ['Full Team Name', 'Base', 'Team Chief', 'Technical Chief','Chassis','Power Unit']\n",
    "teams2022_df = teams2022_df.drop(columns=columns_to_drop)\n",
    "\n",
    "# Splitting the 'Highest Race Finish' column\n",
    "teams2022_df[['Highest Race Finish', 'Nº of Highest Race Finish']] = teams2022_df['Highest Race Finish'].str.extract(r'(\\d+)\\(x(\\d+)\\)')\n",
    "# Convert the new columns to integer type\n",
    "teams2022_df['Highest Race Finish'] = teams2022_df['Highest Race Finish'].astype(int)\n",
    "teams2022_df['Nº of Highest Race Finish'] = teams2022_df['Nº of Highest Race Finish'].astype(int)\n",
    "\n",
    "teams2022_df.head(1)"
   ]
  },
  {
   "cell_type": "code",
   "execution_count": 29,
   "id": "77fe5e2e",
   "metadata": {
    "scrolled": true
   },
   "outputs": [
    {
     "data": {
      "text/html": [
       "<div>\n",
       "<style scoped>\n",
       "    .dataframe tbody tr th:only-of-type {\n",
       "        vertical-align: middle;\n",
       "    }\n",
       "\n",
       "    .dataframe tbody tr th {\n",
       "        vertical-align: top;\n",
       "    }\n",
       "\n",
       "    .dataframe thead th {\n",
       "        text-align: right;\n",
       "    }\n",
       "</style>\n",
       "<table border=\"1\" class=\"dataframe\">\n",
       "  <thead>\n",
       "    <tr style=\"text-align: right;\">\n",
       "      <th></th>\n",
       "      <th>Team Name</th>\n",
       "      <th>Team First Entry</th>\n",
       "      <th>Team Nº World Championships</th>\n",
       "      <th>Team Highest Race Finish</th>\n",
       "      <th>Team Nº Pole Positions</th>\n",
       "      <th>Team Nº Fastest Laps</th>\n",
       "      <th>Team Nº of Highest Race Finish</th>\n",
       "    </tr>\n",
       "  </thead>\n",
       "  <tbody>\n",
       "    <tr>\n",
       "      <th>0</th>\n",
       "      <td>Red Bull Racing RBPT</td>\n",
       "      <td>1997</td>\n",
       "      <td>5</td>\n",
       "      <td>1</td>\n",
       "      <td>81</td>\n",
       "      <td>84</td>\n",
       "      <td>92</td>\n",
       "    </tr>\n",
       "  </tbody>\n",
       "</table>\n",
       "</div>"
      ],
      "text/plain": [
       "              Team Name  Team First Entry  Team Nº World Championships  \\\n",
       "0  Red Bull Racing RBPT              1997                            5   \n",
       "\n",
       "   Team Highest Race Finish  Team Nº Pole Positions  Team Nº Fastest Laps  \\\n",
       "0                         1                      81                    84   \n",
       "\n",
       "   Team Nº of Highest Race Finish  \n",
       "0                              92  "
      ]
     },
     "execution_count": 29,
     "metadata": {},
     "output_type": "execute_result"
    }
   ],
   "source": [
    "# Dictionary mapping old names to new names\n",
    "new_column_names = {\n",
    "    'First Team Entry': 'Team First Entry',\n",
    "    'World Championships': 'Team Nº World Championships',\n",
    "    'Highest Race Finish': 'Team Highest Race Finish',\n",
    "    'Pole Positions': 'Team Nº Pole Positions',\n",
    "    'Fastest Laps': 'Team Nº Fastest Laps',\n",
    "    'Nº of Highest Race Finish': 'Team Nº of Highest Race Finish', 'Team':'Team Name'\n",
    "}\n",
    "\n",
    "# Rename the columns using rename() method\n",
    "teams2022_df = teams2022_df.rename(columns=new_column_names)\n",
    "teams2022_df.head(1)"
   ]
  },
  {
   "cell_type": "code",
   "execution_count": 30,
   "id": "59da8023",
   "metadata": {
    "scrolled": false
   },
   "outputs": [
    {
     "data": {
      "text/plain": [
       "(10, 7)"
      ]
     },
     "execution_count": 30,
     "metadata": {},
     "output_type": "execute_result"
    }
   ],
   "source": [
    "teams2022_df.shape"
   ]
  },
  {
   "cell_type": "markdown",
   "id": "13327fe2",
   "metadata": {},
   "source": [
    "5. F1 Insights Pro Ranking Modifications"
   ]
  },
  {
   "cell_type": "code",
   "execution_count": 31,
   "id": "ff619eb8",
   "metadata": {},
   "outputs": [
    {
     "data": {
      "text/plain": [
       "Index(['Driver', 'Team', 'Track', 'TrackTurns', 'TrackDRSZones',\n",
       "       'ElevationChange', 'AvgTrackTemp', 'AvgAirTemp', 'AvgHumidity',\n",
       "       'AvgWindSpeed', 'RainProbability', 'StartPosition', 'FinishPosition',\n",
       "       'PointsScored', 'FastestLapFlag', 'OverallFastestLap', 'FastestLapTime',\n",
       "       'FastestLapGap', 'FastestLapSpeed', 'Overtakes', 'TotalOvertakes',\n",
       "       'Penalties', 'TotalPenalties', 'TrackComplexity', 'WeatherConditions',\n",
       "       'PenaltyScore', 'DriverPerformanceScore', 'Score', 'Rank'],\n",
       "      dtype='object')"
      ]
     },
     "execution_count": 31,
     "metadata": {},
     "output_type": "execute_result"
    }
   ],
   "source": [
    "F1_Insights_Pro_ranking_2022_df.columns"
   ]
  },
  {
   "cell_type": "code",
   "execution_count": 32,
   "id": "a9149874",
   "metadata": {},
   "outputs": [
    {
     "data": {
      "text/plain": [
       "(440, 29)"
      ]
     },
     "execution_count": 32,
     "metadata": {},
     "output_type": "execute_result"
    }
   ],
   "source": [
    "F1_Insights_Pro_ranking_2022_df.shape"
   ]
  },
  {
   "cell_type": "code",
   "execution_count": 33,
   "id": "9bc35796",
   "metadata": {},
   "outputs": [
    {
     "data": {
      "text/plain": [
       "array(['Bahrain', 'Saudi Arabia', 'Australia', 'Emilia Romagna', 'Miami',\n",
       "       'Spain', 'Monaco', 'Azerbaijan', 'Canada', 'Great Britain',\n",
       "       'Austria', 'France', 'Hungary', 'Belgium', 'Netherlands', 'Italy',\n",
       "       'Singapore', 'Japan', 'United States', 'Mexico', 'Brazil',\n",
       "       'Abu Dhabi'], dtype=object)"
      ]
     },
     "execution_count": 33,
     "metadata": {},
     "output_type": "execute_result"
    }
   ],
   "source": [
    "F1_Insights_Pro_ranking_2022_df['Track'].unique()"
   ]
  },
  {
   "cell_type": "code",
   "execution_count": 34,
   "id": "d183bf89",
   "metadata": {},
   "outputs": [
    {
     "data": {
      "text/plain": [
       "array(['Bahrain International Circuit', 'Jeddah Corniche Circuit',\n",
       "       'Albert Park Circuit', 'Autodromo Enzo e Dino Ferrari',\n",
       "       'Miami International Autodrome', 'Circuit de Barcelona-Catalunya',\n",
       "       'Circuit de Monaco', 'Baku City Circuit',\n",
       "       'Circuit Gilles-Villeneuve', 'Silverstone Circuit',\n",
       "       'Red Bull Ring', 'Circuit Paul Ricard', 'Hungaroring',\n",
       "       'Circuit de Spa-Francorchamps', 'Circuit Zandvoort',\n",
       "       'Autodromo Nazionale Monza', 'Marina Bay Street Circuit',\n",
       "       'Suzuka International Racing Course', 'Circuit of the Americas',\n",
       "       'Autodromo Hermanos Rodriguez', 'Autodromo Jose Carlos Pace',\n",
       "       'Yas Marina Circuit'], dtype=object)"
      ]
     },
     "execution_count": 34,
     "metadata": {},
     "output_type": "execute_result"
    }
   ],
   "source": [
    "track_qualy_mapping_F1_Insights_Pro_ranking = {\n",
    "    'Bahrain': 'Bahrain International Circuit',\n",
    "    'Saudi Arabia': 'Jeddah Corniche Circuit',\n",
    "    'Australia': 'Albert Park Circuit',\n",
    "    'Emilia Romagna': 'Autodromo Enzo e Dino Ferrari',\n",
    "    'Miami': 'Miami International Autodrome',\n",
    "    'Spain': 'Circuit de Barcelona-Catalunya',\n",
    "    'Monaco': 'Circuit de Monaco',\n",
    "    'Azerbaijan': 'Baku City Circuit',\n",
    "    'Canada': 'Circuit Gilles-Villeneuve',\n",
    "    'Great Britain': 'Silverstone Circuit',\n",
    "    'Austria': 'Red Bull Ring',\n",
    "    'France': 'Circuit Paul Ricard',\n",
    "    'Hungary': 'Hungaroring',\n",
    "    'Belgium': 'Circuit de Spa-Francorchamps',\n",
    "    'Netherlands': 'Circuit Zandvoort',\n",
    "    'Italy': 'Autodromo Nazionale Monza',\n",
    "    'Singapore': 'Marina Bay Street Circuit',\n",
    "    'Japan': 'Suzuka International Racing Course',\n",
    "    'United States': 'Circuit of the Americas',\n",
    "    'Mexico': 'Autodromo Hermanos Rodriguez',\n",
    "    'Brazil': 'Autodromo Jose Carlos Pace',\n",
    "    'Abu Dhabi': 'Yas Marina Circuit'\n",
    "}\n",
    "\n",
    "\n",
    "# Applying the mapping to ensure consistency in track names\n",
    "F1_Insights_Pro_ranking_2022_df['Track'] = F1_Insights_Pro_ranking_2022_df['Track'].replace(track_qualy_mapping_F1_Insights_Pro_ranking)\n",
    "F1_Insights_Pro_ranking_2022_df['Track'].unique()"
   ]
  },
  {
   "cell_type": "code",
   "execution_count": 35,
   "id": "a4e816cc",
   "metadata": {},
   "outputs": [],
   "source": [
    "track_to_country = {\n",
    "    'Bahrain International Circuit': 'Bahrain',\n",
    "    'Jeddah Corniche Circuit': 'Saudi Arabia',\n",
    "    'Albert Park Circuit': 'Australia',\n",
    "    'Autodromo Enzo e Dino Ferrari': 'Italy',\n",
    "    'Miami International Autodrome': 'United States',\n",
    "    'Circuit de Barcelona-Catalunya': 'Spain',\n",
    "    'Circuit de Monaco': 'Monaco',\n",
    "    'Baku City Circuit': 'Azerbaijan',\n",
    "    'Circuit Gilles-Villeneuve': 'Canada',\n",
    "    'Silverstone Circuit': 'United Kingdom',\n",
    "    'Red Bull Ring': 'Austria',\n",
    "    'Circuit Paul Ricard': 'France',\n",
    "    'Hungaroring': 'Hungary',\n",
    "    'Circuit de Spa-Francorchamps': 'Belgium',\n",
    "    'Circuit Zandvoort': 'Netherlands',\n",
    "    'Autodromo Nazionale Monza': 'Italy',\n",
    "    'Marina Bay Street Circuit': 'Singapore',\n",
    "    'Suzuka International Racing Course': 'Japan',\n",
    "    'Circuit of the Americas': 'United States',\n",
    "    'Autodromo Hermanos Rodriguez': 'Mexico',\n",
    "    'Autodromo Jose Carlos Pace': 'Brazil',\n",
    "    'Yas Marina Circuit': 'United Arab Emirates'\n",
    "}\n",
    "\n",
    "track_to_city = {\n",
    "    'Bahrain International Circuit': 'Sakhir',\n",
    "    'Jeddah Corniche Circuit': 'Jeddah',\n",
    "    'Albert Park Circuit': 'Melbourne',\n",
    "    'Autodromo Enzo e Dino Ferrari': 'Imola',\n",
    "    'Miami International Autodrome': 'Miami',\n",
    "    'Circuit de Barcelona-Catalunya': 'Barcelona',\n",
    "    'Circuit de Monaco': 'Monte Carlo',\n",
    "    'Baku City Circuit': 'Baku',\n",
    "    'Circuit Gilles-Villeneuve': 'Montreal',\n",
    "    'Silverstone Circuit': 'Silverstone',\n",
    "    'Red Bull Ring': 'Spielberg',\n",
    "    'Circuit Paul Ricard': 'Le Castellet',\n",
    "    'Hungaroring': 'Mogyoród',\n",
    "    'Circuit de Spa-Francorchamps': 'Stavelot',\n",
    "    'Circuit Zandvoort': 'Zandvoort',\n",
    "    'Autodromo Nazionale Monza': 'Monza',\n",
    "    'Marina Bay Street Circuit': 'Singapore',\n",
    "    'Suzuka International Racing Course': 'Suzuka',\n",
    "    'Circuit of the Americas': 'Austin',\n",
    "    'Autodromo Hermanos Rodriguez': 'Mexico City',\n",
    "    'Autodromo Jose Carlos Pace': 'São Paulo',\n",
    "    'Yas Marina Circuit': 'Abu Dhabi'\n",
    "}\n",
    "\n",
    "# Adding new columns for country and city\n",
    "F1_Insights_Pro_ranking_2022_df['Country'] = F1_Insights_Pro_ranking_2022_df['Track'].map(track_to_country)\n",
    "F1_Insights_Pro_ranking_2022_df['City'] = F1_Insights_Pro_ranking_2022_df['Track'].map(track_to_city)\n",
    "\n",
    "# Display the updated DataFrame to verify the changes\n",
    "F1_Insights_Pro_ranking_2022_df.rename(columns={'Track': 'Circuit Name'}, inplace=True)"
   ]
  },
  {
   "cell_type": "code",
   "execution_count": 36,
   "id": "91218037",
   "metadata": {},
   "outputs": [
    {
     "data": {
      "text/html": [
       "<div>\n",
       "<style scoped>\n",
       "    .dataframe tbody tr th:only-of-type {\n",
       "        vertical-align: middle;\n",
       "    }\n",
       "\n",
       "    .dataframe tbody tr th {\n",
       "        vertical-align: top;\n",
       "    }\n",
       "\n",
       "    .dataframe thead th {\n",
       "        text-align: right;\n",
       "    }\n",
       "</style>\n",
       "<table border=\"1\" class=\"dataframe\">\n",
       "  <thead>\n",
       "    <tr style=\"text-align: right;\">\n",
       "      <th></th>\n",
       "      <th>Driver</th>\n",
       "      <th>Team</th>\n",
       "      <th>Circuit Name</th>\n",
       "      <th>TrackTurns</th>\n",
       "      <th>TrackDRSZones</th>\n",
       "      <th>ElevationChange</th>\n",
       "      <th>AvgTrackTemp</th>\n",
       "      <th>AvgAirTemp</th>\n",
       "      <th>AvgHumidity</th>\n",
       "      <th>AvgWindSpeed</th>\n",
       "      <th>...</th>\n",
       "      <th>TrackComplexity</th>\n",
       "      <th>WeatherConditions</th>\n",
       "      <th>PenaltyScore</th>\n",
       "      <th>DriverPerformanceScore</th>\n",
       "      <th>Score</th>\n",
       "      <th>Rank</th>\n",
       "      <th>Country</th>\n",
       "      <th>City</th>\n",
       "      <th>Year</th>\n",
       "      <th>Circuit_Driver</th>\n",
       "    </tr>\n",
       "  </thead>\n",
       "  <tbody>\n",
       "    <tr>\n",
       "      <th>0</th>\n",
       "      <td>Charles Leclerc</td>\n",
       "      <td>Ferrari</td>\n",
       "      <td>Bahrain International Circuit</td>\n",
       "      <td>15</td>\n",
       "      <td>3</td>\n",
       "      <td>3.5</td>\n",
       "      <td>28.610429</td>\n",
       "      <td>23.617791</td>\n",
       "      <td>29.490798</td>\n",
       "      <td>0.304908</td>\n",
       "      <td>...</td>\n",
       "      <td>0.065</td>\n",
       "      <td>0.03096</td>\n",
       "      <td>0</td>\n",
       "      <td>9.551327</td>\n",
       "      <td>9.647288</td>\n",
       "      <td>1</td>\n",
       "      <td>Bahrain</td>\n",
       "      <td>Sakhir</td>\n",
       "      <td>2022</td>\n",
       "      <td>2022_Sakhir_Charles Leclerc</td>\n",
       "    </tr>\n",
       "  </tbody>\n",
       "</table>\n",
       "<p>1 rows × 33 columns</p>\n",
       "</div>"
      ],
      "text/plain": [
       "            Driver     Team                   Circuit Name  TrackTurns  \\\n",
       "0  Charles Leclerc  Ferrari  Bahrain International Circuit          15   \n",
       "\n",
       "   TrackDRSZones  ElevationChange  AvgTrackTemp  AvgAirTemp  AvgHumidity  \\\n",
       "0              3              3.5     28.610429   23.617791    29.490798   \n",
       "\n",
       "   AvgWindSpeed  ...  TrackComplexity  WeatherConditions  PenaltyScore  \\\n",
       "0      0.304908  ...            0.065            0.03096             0   \n",
       "\n",
       "   DriverPerformanceScore     Score  Rank  Country    City  Year  \\\n",
       "0                9.551327  9.647288     1  Bahrain  Sakhir  2022   \n",
       "\n",
       "                Circuit_Driver  \n",
       "0  2022_Sakhir_Charles Leclerc  \n",
       "\n",
       "[1 rows x 33 columns]"
      ]
     },
     "execution_count": 36,
     "metadata": {},
     "output_type": "execute_result"
    }
   ],
   "source": [
    "# Add a new column 'Year' with the value 2022 for all rows\n",
    "F1_Insights_Pro_ranking_2022_df['Year'] = 2022\n",
    "\n",
    "# Calculate the key column based on Year, City, and Driver\n",
    "F1_Insights_Pro_ranking_2022_df['Circuit_Driver'] = F1_Insights_Pro_ranking_2022_df['Year'].astype(str) + '_' + F1_Insights_Pro_ranking_2022_df['City'] + '_' + F1_Insights_Pro_ranking_2022_df['Driver']\n",
    "F1_Insights_Pro_ranking_2022_df.head(1)"
   ]
  },
  {
   "cell_type": "markdown",
   "id": "92a4f4fa",
   "metadata": {},
   "source": [
    "# ------------------------------------------------------------------------------------"
   ]
  },
  {
   "cell_type": "markdown",
   "id": "ab465cee",
   "metadata": {},
   "source": [
    "# 3. 2022 Merging Datasets"
   ]
  },
  {
   "cell_type": "markdown",
   "id": "f2af85be",
   "metadata": {},
   "source": [
    "3.1. Merging Race Results File + Qualifying Results File "
   ]
  },
  {
   "cell_type": "code",
   "execution_count": 37,
   "id": "326cadd3",
   "metadata": {},
   "outputs": [
    {
     "data": {
      "text/plain": [
       "Index(['Year', 'Country', 'City', 'Circuit Name', 'Race Position', 'No',\n",
       "       'Driver', 'Team', 'Race Starting Grid', 'Race Laps',\n",
       "       'Race Time/Retired', 'Race Points', 'Race Fastest Lap',\n",
       "       'Circuit_Driver'],\n",
       "      dtype='object')"
      ]
     },
     "execution_count": 37,
     "metadata": {},
     "output_type": "execute_result"
    }
   ],
   "source": [
    "# Race Results File \n",
    "race_results2022_df.columns"
   ]
  },
  {
   "cell_type": "code",
   "execution_count": 38,
   "id": "68059278",
   "metadata": {},
   "outputs": [
    {
     "data": {
      "text/plain": [
       "Index(['Circuit Name', 'Qualifying Position', 'No', 'Driver', 'Team', 'Q1',\n",
       "       'Q2', 'Q3', 'Qualifying Laps', 'Country', 'City', 'Year',\n",
       "       'Circuit_Driver'],\n",
       "      dtype='object')"
      ]
     },
     "execution_count": 38,
     "metadata": {},
     "output_type": "execute_result"
    }
   ],
   "source": [
    "# Qualifying Results File \n",
    "qualifying_results2022_df.columns "
   ]
  },
  {
   "cell_type": "code",
   "execution_count": 39,
   "id": "4c8ccdf4",
   "metadata": {},
   "outputs": [
    {
     "data": {
      "text/html": [
       "<div>\n",
       "<style scoped>\n",
       "    .dataframe tbody tr th:only-of-type {\n",
       "        vertical-align: middle;\n",
       "    }\n",
       "\n",
       "    .dataframe tbody tr th {\n",
       "        vertical-align: top;\n",
       "    }\n",
       "\n",
       "    .dataframe thead th {\n",
       "        text-align: right;\n",
       "    }\n",
       "</style>\n",
       "<table border=\"1\" class=\"dataframe\">\n",
       "  <thead>\n",
       "    <tr style=\"text-align: right;\">\n",
       "      <th></th>\n",
       "      <th>Year_x</th>\n",
       "      <th>Country_x</th>\n",
       "      <th>City_x</th>\n",
       "      <th>Circuit Name_x</th>\n",
       "      <th>Race Position</th>\n",
       "      <th>No_x</th>\n",
       "      <th>Driver_x</th>\n",
       "      <th>Team_x</th>\n",
       "      <th>Race Starting Grid</th>\n",
       "      <th>Race Laps</th>\n",
       "      <th>...</th>\n",
       "      <th>No_y</th>\n",
       "      <th>Driver_y</th>\n",
       "      <th>Team_y</th>\n",
       "      <th>Q1</th>\n",
       "      <th>Q2</th>\n",
       "      <th>Q3</th>\n",
       "      <th>Qualifying Laps</th>\n",
       "      <th>Country_y</th>\n",
       "      <th>City_y</th>\n",
       "      <th>Year_y</th>\n",
       "    </tr>\n",
       "  </thead>\n",
       "  <tbody>\n",
       "    <tr>\n",
       "      <th>0</th>\n",
       "      <td>2022</td>\n",
       "      <td>Bahrain</td>\n",
       "      <td>Sakhir</td>\n",
       "      <td>Bahrain International Circuit</td>\n",
       "      <td>1</td>\n",
       "      <td>16</td>\n",
       "      <td>Charles Leclerc</td>\n",
       "      <td>Ferrari</td>\n",
       "      <td>1</td>\n",
       "      <td>57</td>\n",
       "      <td>...</td>\n",
       "      <td>16</td>\n",
       "      <td>Charles Leclerc</td>\n",
       "      <td>Ferrari</td>\n",
       "      <td>1:31.471</td>\n",
       "      <td>1:30.932</td>\n",
       "      <td>1:30.558</td>\n",
       "      <td>15</td>\n",
       "      <td>Bahrain</td>\n",
       "      <td>Sakhir</td>\n",
       "      <td>2022</td>\n",
       "    </tr>\n",
       "  </tbody>\n",
       "</table>\n",
       "<p>1 rows × 26 columns</p>\n",
       "</div>"
      ],
      "text/plain": [
       "   Year_x Country_x  City_x                 Circuit Name_x Race Position  \\\n",
       "0    2022   Bahrain  Sakhir  Bahrain International Circuit             1   \n",
       "\n",
       "   No_x         Driver_x   Team_x  Race Starting Grid  Race Laps  ... No_y  \\\n",
       "0    16  Charles Leclerc  Ferrari                   1         57  ...   16   \n",
       "\n",
       "          Driver_y   Team_y        Q1        Q2        Q3  Qualifying Laps  \\\n",
       "0  Charles Leclerc  Ferrari  1:31.471  1:30.932  1:30.558               15   \n",
       "\n",
       "  Country_y  City_y Year_y  \n",
       "0   Bahrain  Sakhir   2022  \n",
       "\n",
       "[1 rows x 26 columns]"
      ]
     },
     "execution_count": 39,
     "metadata": {},
     "output_type": "execute_result"
    }
   ],
   "source": [
    "# Merging the dataframes on 'Circuit_Driver'\n",
    "race_and_qualy_2022_df = pd.merge(race_results2022_df, qualifying_results2022_df, on='Circuit_Driver')\n",
    "race_and_qualy_2022_df.head(1)"
   ]
  },
  {
   "cell_type": "code",
   "execution_count": 40,
   "id": "0e4c1e91",
   "metadata": {},
   "outputs": [
    {
     "data": {
      "text/plain": [
       "Index(['Year_x', 'Country_x', 'City_x', 'Circuit Name_x', 'Race Position',\n",
       "       'No_x', 'Driver_x', 'Team_x', 'Race Starting Grid', 'Race Laps',\n",
       "       'Race Time/Retired', 'Race Points', 'Race Fastest Lap',\n",
       "       'Circuit_Driver', 'Circuit Name_y', 'Qualifying Position', 'No_y',\n",
       "       'Driver_y', 'Team_y', 'Q1', 'Q2', 'Q3', 'Qualifying Laps', 'Country_y',\n",
       "       'City_y', 'Year_y'],\n",
       "      dtype='object')"
      ]
     },
     "execution_count": 40,
     "metadata": {},
     "output_type": "execute_result"
    }
   ],
   "source": [
    "race_and_qualy_2022_df.columns"
   ]
  },
  {
   "cell_type": "code",
   "execution_count": 41,
   "id": "8235d7cc",
   "metadata": {},
   "outputs": [
    {
     "data": {
      "text/plain": [
       "(440, 19)"
      ]
     },
     "execution_count": 41,
     "metadata": {},
     "output_type": "execute_result"
    }
   ],
   "source": [
    "# Dropping the specified columns\n",
    "columns_to_drop = ['Country_y', 'City_y', 'Year_y', 'Team_y', 'Driver_y', 'No_y','Circuit Name_y']\n",
    "race_and_qualy_2022_df = race_and_qualy_2022_df.drop(columns=columns_to_drop)\n",
    "race_and_qualy_2022_df.shape"
   ]
  },
  {
   "cell_type": "code",
   "execution_count": 42,
   "id": "91eb1ccd",
   "metadata": {},
   "outputs": [
    {
     "data": {
      "text/plain": [
       "Index(['Year', 'Country', 'City', 'Circuit Name', 'Race Position', 'No',\n",
       "       'Driver', 'Team', 'Race Starting Grid', 'Race Laps',\n",
       "       'Race Time/Retired', 'Race Points', 'Race Fastest Lap',\n",
       "       'Circuit_Driver', 'Qualifying Position', 'Q1', 'Q2', 'Q3',\n",
       "       'Qualifying Laps'],\n",
       "      dtype='object')"
      ]
     },
     "execution_count": 42,
     "metadata": {},
     "output_type": "execute_result"
    }
   ],
   "source": [
    "# Renaming columns to remove '_x' suffix\n",
    "race_and_qualy_2022_df.rename(columns={\n",
    "    'Year_x': 'Year',\n",
    "    'Country_x': 'Country',\n",
    "    'City_x': 'City',\n",
    "    'Circuit Name_x': 'Circuit Name',\n",
    "    'Race Position': 'Race Position',\n",
    "    'No_x': 'No',\n",
    "    'Driver_x': 'Driver',\n",
    "    'Team_x': 'Team'\n",
    "}, inplace=True)\n",
    "\n",
    "race_and_qualy_2022_df.columns"
   ]
  },
  {
   "cell_type": "markdown",
   "id": "fa03130d",
   "metadata": {},
   "source": [
    "# ------------------------------------------------------------------------------------"
   ]
  },
  {
   "cell_type": "markdown",
   "id": "ee7b7b47",
   "metadata": {},
   "source": [
    "3.2. Merging Existing File + Drivers File "
   ]
  },
  {
   "cell_type": "code",
   "execution_count": 43,
   "id": "481eb3f1",
   "metadata": {},
   "outputs": [
    {
     "data": {
      "text/html": [
       "<div>\n",
       "<style scoped>\n",
       "    .dataframe tbody tr th:only-of-type {\n",
       "        vertical-align: middle;\n",
       "    }\n",
       "\n",
       "    .dataframe tbody tr th {\n",
       "        vertical-align: top;\n",
       "    }\n",
       "\n",
       "    .dataframe thead th {\n",
       "        text-align: right;\n",
       "    }\n",
       "</style>\n",
       "<table border=\"1\" class=\"dataframe\">\n",
       "  <thead>\n",
       "    <tr style=\"text-align: right;\">\n",
       "      <th></th>\n",
       "      <th>Year</th>\n",
       "      <th>Country_x</th>\n",
       "      <th>City</th>\n",
       "      <th>Circuit Name</th>\n",
       "      <th>Race Position</th>\n",
       "      <th>No_x</th>\n",
       "      <th>Driver</th>\n",
       "      <th>Team_x</th>\n",
       "      <th>Race Starting Grid</th>\n",
       "      <th>Race Laps</th>\n",
       "      <th>...</th>\n",
       "      <th>Country_y</th>\n",
       "      <th>Podiums</th>\n",
       "      <th>Points</th>\n",
       "      <th>Grands Prix Entered</th>\n",
       "      <th>World Championships</th>\n",
       "      <th>Highest Race Finish</th>\n",
       "      <th>Highest Grid Position</th>\n",
       "      <th>Date of Birth</th>\n",
       "      <th>Place of Birth</th>\n",
       "      <th>Nº of Highest Race Finish</th>\n",
       "    </tr>\n",
       "  </thead>\n",
       "  <tbody>\n",
       "    <tr>\n",
       "      <th>0</th>\n",
       "      <td>2022</td>\n",
       "      <td>Bahrain</td>\n",
       "      <td>Sakhir</td>\n",
       "      <td>Bahrain International Circuit</td>\n",
       "      <td>1</td>\n",
       "      <td>16</td>\n",
       "      <td>Charles Leclerc</td>\n",
       "      <td>Ferrari</td>\n",
       "      <td>1</td>\n",
       "      <td>57</td>\n",
       "      <td>...</td>\n",
       "      <td>Monaco</td>\n",
       "      <td>24</td>\n",
       "      <td>868.0</td>\n",
       "      <td>103</td>\n",
       "      <td>0</td>\n",
       "      <td>1</td>\n",
       "      <td>1</td>\n",
       "      <td>16/10/1997</td>\n",
       "      <td>Monte Carlo, Monaco</td>\n",
       "      <td>5</td>\n",
       "    </tr>\n",
       "  </tbody>\n",
       "</table>\n",
       "<p>1 rows × 32 columns</p>\n",
       "</div>"
      ],
      "text/plain": [
       "   Year Country_x    City                   Circuit Name Race Position  No_x  \\\n",
       "0  2022   Bahrain  Sakhir  Bahrain International Circuit             1    16   \n",
       "\n",
       "            Driver   Team_x  Race Starting Grid  Race Laps  ... Country_y  \\\n",
       "0  Charles Leclerc  Ferrari                   1         57  ...    Monaco   \n",
       "\n",
       "   Podiums Points Grands Prix Entered World Championships Highest Race Finish  \\\n",
       "0       24  868.0                 103                   0                   1   \n",
       "\n",
       "  Highest Grid Position Date of Birth       Place of Birth  \\\n",
       "0                     1    16/10/1997  Monte Carlo, Monaco   \n",
       "\n",
       "  Nº of Highest Race Finish  \n",
       "0                         5  \n",
       "\n",
       "[1 rows x 32 columns]"
      ]
     },
     "execution_count": 43,
     "metadata": {},
     "output_type": "execute_result"
    }
   ],
   "source": [
    "# Merging the dataframes on 'Circuit_Driver'\n",
    "race_and_qualy_and_drivers_2022_df = pd.merge(race_and_qualy_2022_df, drivers2022_df, on='Driver')\n",
    "race_and_qualy_and_drivers_2022_df.head(1)"
   ]
  },
  {
   "cell_type": "code",
   "execution_count": 44,
   "id": "40cac6c0",
   "metadata": {},
   "outputs": [
    {
     "data": {
      "text/plain": [
       "(440, 32)"
      ]
     },
     "execution_count": 44,
     "metadata": {},
     "output_type": "execute_result"
    }
   ],
   "source": [
    "race_and_qualy_and_drivers_2022_df.shape"
   ]
  },
  {
   "cell_type": "code",
   "execution_count": 45,
   "id": "39ca9845",
   "metadata": {},
   "outputs": [
    {
     "data": {
      "text/plain": [
       "(440, 29)"
      ]
     },
     "execution_count": 45,
     "metadata": {},
     "output_type": "execute_result"
    }
   ],
   "source": [
    "# Dropping the specified columns\n",
    "columns_to_drop = ['Country_y', 'Team_y', 'No_y']\n",
    "race_and_qualy_and_drivers_2022_df = race_and_qualy_and_drivers_2022_df.drop(columns=columns_to_drop)\n",
    "race_and_qualy_and_drivers_2022_df.shape"
   ]
  },
  {
   "cell_type": "code",
   "execution_count": 46,
   "id": "f36847d5",
   "metadata": {},
   "outputs": [
    {
     "data": {
      "text/plain": [
       "Index(['Year', 'Country', 'City', 'Circuit Name', 'Race Position', 'No',\n",
       "       'Driver', 'Team', 'Race Starting Grid', 'Race Laps',\n",
       "       'Race Time/Retired', 'Race Points', 'Race Fastest Lap',\n",
       "       'Circuit_Driver', 'Qualifying Position', 'Q1', 'Q2', 'Q3',\n",
       "       'Qualifying Laps', 'Abbreviation', 'Podiums', 'Points',\n",
       "       'Grands Prix Entered', 'World Championships', 'Highest Race Finish',\n",
       "       'Highest Grid Position', 'Date of Birth', 'Place of Birth',\n",
       "       'Nº of Highest Race Finish'],\n",
       "      dtype='object')"
      ]
     },
     "execution_count": 46,
     "metadata": {},
     "output_type": "execute_result"
    }
   ],
   "source": [
    "# Renaming columns to match Set 1\n",
    "race_and_qualy_and_drivers_2022_df.rename(columns={\n",
    "    'Country_x': 'Country',\n",
    "    'No_x': 'No',\n",
    "    'Team_x': 'Team'\n",
    "}, inplace=True)\n",
    "race_and_qualy_and_drivers_2022_df.columns"
   ]
  },
  {
   "cell_type": "markdown",
   "id": "5e675ee2",
   "metadata": {},
   "source": [
    "# ------------------------------------------------------------------------------------"
   ]
  },
  {
   "cell_type": "markdown",
   "id": "33cbdc1c",
   "metadata": {},
   "source": [
    "3.3. Merging Existing File + Team File"
   ]
  },
  {
   "cell_type": "code",
   "execution_count": 47,
   "id": "7034af94",
   "metadata": {},
   "outputs": [
    {
     "data": {
      "text/plain": [
       "Index(['Team Name', 'Team First Entry', 'Team Nº World Championships',\n",
       "       'Team Highest Race Finish', 'Team Nº Pole Positions',\n",
       "       'Team Nº Fastest Laps', 'Team Nº of Highest Race Finish'],\n",
       "      dtype='object')"
      ]
     },
     "execution_count": 47,
     "metadata": {},
     "output_type": "execute_result"
    }
   ],
   "source": [
    "teams2022_df.columns"
   ]
  },
  {
   "cell_type": "code",
   "execution_count": 48,
   "id": "d700d735",
   "metadata": {
    "scrolled": true
   },
   "outputs": [
    {
     "data": {
      "text/plain": [
       "Index(['Year', 'Country', 'City', 'Circuit Name', 'Race Position', 'No',\n",
       "       'Driver', 'Team', 'Race Starting Grid', 'Race Laps',\n",
       "       'Race Time/Retired', 'Race Points', 'Race Fastest Lap',\n",
       "       'Circuit_Driver', 'Qualifying Position', 'Q1', 'Q2', 'Q3',\n",
       "       'Qualifying Laps', 'Abbreviation', 'Podiums', 'Points',\n",
       "       'Grands Prix Entered', 'World Championships', 'Highest Race Finish',\n",
       "       'Highest Grid Position', 'Date of Birth', 'Place of Birth',\n",
       "       'Nº of Highest Race Finish'],\n",
       "      dtype='object')"
      ]
     },
     "execution_count": 48,
     "metadata": {},
     "output_type": "execute_result"
    }
   ],
   "source": [
    "race_and_qualy_and_drivers_2022_df.columns"
   ]
  },
  {
   "cell_type": "code",
   "execution_count": 49,
   "id": "e9bb594f",
   "metadata": {
    "scrolled": true
   },
   "outputs": [
    {
     "data": {
      "text/plain": [
       "(440, 35)"
      ]
     },
     "execution_count": 49,
     "metadata": {},
     "output_type": "execute_result"
    }
   ],
   "source": [
    "race_and_qualy_and_drivers_and_teams_2022_df = pd.merge(teams2022_df, race_and_qualy_and_drivers_2022_df, left_on='Team Name', right_on='Team')\n",
    "race_and_qualy_and_drivers_and_teams_2022_df.drop('Team Name', axis=1, inplace=True)\n",
    "race_and_qualy_and_drivers_and_teams_2022_df.shape"
   ]
  },
  {
   "cell_type": "markdown",
   "id": "f53fe0e6",
   "metadata": {},
   "source": [
    "# ------------------------------------------------------------------------------------"
   ]
  },
  {
   "cell_type": "markdown",
   "id": "36ca8fc4",
   "metadata": {},
   "source": [
    "3.4. Merging Existing File + F1 Insights Pro Ranking"
   ]
  },
  {
   "cell_type": "code",
   "execution_count": 50,
   "id": "7428c52b",
   "metadata": {},
   "outputs": [],
   "source": [
    "# Merging the dataframes on 'Circuit_Driver'\n",
    "race_and_qualy_and_drivers_and_teams_and_F1_Insights_Pro_2022_df = pd.merge(race_and_qualy_and_drivers_and_teams_2022_df, F1_Insights_Pro_ranking_2022_df, on='Circuit_Driver', how='left')"
   ]
  },
  {
   "cell_type": "code",
   "execution_count": 51,
   "id": "ff8f3bfb",
   "metadata": {},
   "outputs": [
    {
     "data": {
      "text/plain": [
       "(440, 67)"
      ]
     },
     "execution_count": 51,
     "metadata": {},
     "output_type": "execute_result"
    }
   ],
   "source": [
    "race_and_qualy_and_drivers_and_teams_and_F1_Insights_Pro_2022_df.shape"
   ]
  },
  {
   "cell_type": "code",
   "execution_count": 52,
   "id": "1a8a63b4",
   "metadata": {
    "scrolled": true
   },
   "outputs": [
    {
     "data": {
      "text/plain": [
       "Index(['Team First Entry', 'Team Nº World Championships',\n",
       "       'Team Highest Race Finish', 'Team Nº Pole Positions',\n",
       "       'Team Nº Fastest Laps', 'Team Nº of Highest Race Finish', 'Year_x',\n",
       "       'Country_x', 'City_x', 'Circuit Name_x', 'Race Position', 'No',\n",
       "       'Driver_x', 'Team_x', 'Race Starting Grid', 'Race Laps',\n",
       "       'Race Time/Retired', 'Race Points', 'Race Fastest Lap',\n",
       "       'Circuit_Driver', 'Qualifying Position', 'Q1', 'Q2', 'Q3',\n",
       "       'Qualifying Laps', 'Abbreviation', 'Podiums', 'Points',\n",
       "       'Grands Prix Entered', 'World Championships', 'Highest Race Finish',\n",
       "       'Highest Grid Position', 'Date of Birth', 'Place of Birth',\n",
       "       'Nº of Highest Race Finish', 'Driver_y', 'Team_y', 'Circuit Name_y',\n",
       "       'TrackTurns', 'TrackDRSZones', 'ElevationChange', 'AvgTrackTemp',\n",
       "       'AvgAirTemp', 'AvgHumidity', 'AvgWindSpeed', 'RainProbability',\n",
       "       'StartPosition', 'FinishPosition', 'PointsScored', 'FastestLapFlag',\n",
       "       'OverallFastestLap', 'FastestLapTime', 'FastestLapGap',\n",
       "       'FastestLapSpeed', 'Overtakes', 'TotalOvertakes', 'Penalties',\n",
       "       'TotalPenalties', 'TrackComplexity', 'WeatherConditions',\n",
       "       'PenaltyScore', 'DriverPerformanceScore', 'Score', 'Rank', 'Country_y',\n",
       "       'City_y', 'Year_y'],\n",
       "      dtype='object')"
      ]
     },
     "execution_count": 52,
     "metadata": {},
     "output_type": "execute_result"
    }
   ],
   "source": [
    "race_and_qualy_and_drivers_and_teams_and_F1_Insights_Pro_2022_df.columns"
   ]
  },
  {
   "cell_type": "code",
   "execution_count": 53,
   "id": "c8f9ae96",
   "metadata": {},
   "outputs": [
    {
     "data": {
      "text/plain": [
       "Index(['Team First Entry', 'Team Nº World Championships',\n",
       "       'Team Highest Race Finish', 'Team Nº Pole Positions',\n",
       "       'Team Nº Fastest Laps', 'Team Nº of Highest Race Finish', 'Year_x',\n",
       "       'Country_x', 'City_x', 'Circuit Name_x', 'Race Position', 'No',\n",
       "       'Driver_x', 'Team_x', 'Race Starting Grid', 'Race Laps',\n",
       "       'Race Time/Retired', 'Race Points', 'Race Fastest Lap',\n",
       "       'Circuit_Driver', 'Qualifying Position', 'Q1', 'Q2', 'Q3',\n",
       "       'Qualifying Laps', 'Abbreviation', 'Podiums', 'Points',\n",
       "       'Grands Prix Entered', 'World Championships', 'Highest Race Finish',\n",
       "       'Highest Grid Position', 'Date of Birth', 'Place of Birth',\n",
       "       'Nº of Highest Race Finish', 'TrackTurns', 'TrackDRSZones',\n",
       "       'ElevationChange', 'AvgTrackTemp', 'AvgAirTemp', 'AvgHumidity',\n",
       "       'AvgWindSpeed', 'RainProbability', 'StartPosition', 'FinishPosition',\n",
       "       'PointsScored', 'FastestLapFlag', 'OverallFastestLap', 'FastestLapTime',\n",
       "       'FastestLapGap', 'FastestLapSpeed', 'Overtakes', 'TotalOvertakes',\n",
       "       'Penalties', 'TotalPenalties', 'TrackComplexity', 'WeatherConditions',\n",
       "       'PenaltyScore', 'DriverPerformanceScore', 'Score', 'Rank'],\n",
       "      dtype='object')"
      ]
     },
     "execution_count": 53,
     "metadata": {},
     "output_type": "execute_result"
    }
   ],
   "source": [
    "# Dropping the specified columns\n",
    "columns_to_drop = ['Country_y', 'City_y', 'Year_y', 'Team_y', 'Driver_y','Circuit Name_y']\n",
    "race_and_qualy_and_drivers_and_teams_and_F1_Insights_Pro_2022_df = race_and_qualy_and_drivers_and_teams_and_F1_Insights_Pro_2022_df.drop(columns=columns_to_drop)\n",
    "race_and_qualy_and_drivers_and_teams_and_F1_Insights_Pro_2022_df.columns"
   ]
  },
  {
   "cell_type": "code",
   "execution_count": 54,
   "id": "2e983daa",
   "metadata": {},
   "outputs": [
    {
     "data": {
      "text/plain": [
       "Index(['Team First Entry', 'Team Nº World Championships',\n",
       "       'Team Highest Race Finish', 'Team Nº Pole Positions',\n",
       "       'Team Nº Fastest Laps', 'Team Nº of Highest Race Finish', 'Year',\n",
       "       'Country', 'City', 'Circuit Name', 'Race Position', 'No', 'Driver',\n",
       "       'Team', 'Race Starting Grid', 'Race Laps', 'Race Time/Retired',\n",
       "       'Race Points', 'Race Fastest Lap', 'Circuit_Driver',\n",
       "       'Qualifying Position', 'Q1', 'Q2', 'Q3', 'Qualifying Laps',\n",
       "       'Abbreviation', 'Podiums', 'Points', 'Grands Prix Entered',\n",
       "       'World Championships', 'Highest Race Finish', 'Highest Grid Position',\n",
       "       'Date of Birth', 'Place of Birth', 'Nº of Highest Race Finish',\n",
       "       'TrackTurns', 'TrackDRSZones', 'ElevationChange', 'AvgTrackTemp',\n",
       "       'AvgAirTemp', 'AvgHumidity', 'AvgWindSpeed', 'RainProbability',\n",
       "       'StartPosition', 'FinishPosition', 'PointsScored', 'FastestLapFlag',\n",
       "       'OverallFastestLap', 'FastestLapTime', 'FastestLapGap',\n",
       "       'FastestLapSpeed', 'Overtakes', 'TotalOvertakes', 'Penalties',\n",
       "       'TotalPenalties', 'TrackComplexity', 'WeatherConditions',\n",
       "       'PenaltyScore', 'DriverPerformanceScore', 'Score', 'Rank'],\n",
       "      dtype='object')"
      ]
     },
     "execution_count": 54,
     "metadata": {},
     "output_type": "execute_result"
    }
   ],
   "source": [
    "# Renaming columns to match Set 1\n",
    "race_and_qualy_and_drivers_and_teams_and_F1_Insights_Pro_2022_df.rename(columns={\n",
    "    'Country_x': 'Country',\n",
    "    'Year_x':'Year',\n",
    "    'City_x':'City',\n",
    "    'Circuit Name_x':'Circuit Name',\n",
    "    'Driver_x':'Driver',\n",
    "    'Team_x': 'Team'\n",
    "}, inplace=True)\n",
    "race_and_qualy_and_drivers_and_teams_and_F1_Insights_Pro_2022_df.columns\n"
   ]
  },
  {
   "cell_type": "code",
   "execution_count": 55,
   "id": "c9291a31",
   "metadata": {},
   "outputs": [
    {
     "data": {
      "text/plain": [
       "(440, 61)"
      ]
     },
     "execution_count": 55,
     "metadata": {},
     "output_type": "execute_result"
    }
   ],
   "source": [
    "race_and_qualy_and_drivers_and_teams_and_F1_Insights_Pro_2022_df.shape"
   ]
  },
  {
   "cell_type": "markdown",
   "id": "03a2838b",
   "metadata": {},
   "source": [
    "# ------------------------------------------------------------------------------------\n"
   ]
  },
  {
   "cell_type": "markdown",
   "id": "6b150c89",
   "metadata": {},
   "source": [
    "# 4. 2023 Files Modifications "
   ]
  },
  {
   "cell_type": "markdown",
   "id": "b0abe056",
   "metadata": {},
   "source": [
    "4.1. Exploratory Data Analysis 2023"
   ]
  },
  {
   "cell_type": "code",
   "execution_count": 56,
   "id": "2a3a6e09",
   "metadata": {},
   "outputs": [
    {
     "data": {
      "text/plain": [
       "Index(['Round', 'Race Date', 'GP Name', 'Country', 'City', 'Circuit Name',\n",
       "       'First GP', 'Number of Laps', 'Circuit Length(km)', 'Race Distance(km)',\n",
       "       'Lap Record', 'Record Owner', 'Record Year', 'Turns', 'DRS Zones'],\n",
       "      dtype='object')"
      ]
     },
     "execution_count": 56,
     "metadata": {},
     "output_type": "execute_result"
    }
   ],
   "source": [
    "calendar2023_df.columns"
   ]
  },
  {
   "cell_type": "code",
   "execution_count": 57,
   "id": "a0e7e3d5",
   "metadata": {},
   "outputs": [
    {
     "data": {
      "text/plain": [
       "Index(['Driver', 'Abbreviation', 'No', 'Team', 'Country', 'Podiums', 'Points',\n",
       "       'Grands Prix Entered', 'World Championships', 'Highest Race Finish',\n",
       "       'Highest Grid Position', 'Date of Birth', 'Place of Birth'],\n",
       "      dtype='object')"
      ]
     },
     "execution_count": 57,
     "metadata": {},
     "output_type": "execute_result"
    }
   ],
   "source": [
    "drivers2023_df.columns"
   ]
  },
  {
   "cell_type": "code",
   "execution_count": 58,
   "id": "c18af6cf",
   "metadata": {},
   "outputs": [
    {
     "data": {
      "text/plain": [
       "Index(['Track', 'Position', 'No', 'Driver', 'Team', 'Q1', 'Q2', 'Q3', 'Laps'], dtype='object')"
      ]
     },
     "execution_count": 58,
     "metadata": {},
     "output_type": "execute_result"
    }
   ],
   "source": [
    "qualifying_results2023_df.columns"
   ]
  },
  {
   "cell_type": "code",
   "execution_count": 59,
   "id": "640719d2",
   "metadata": {},
   "outputs": [
    {
     "data": {
      "text/plain": [
       "Index(['Track', 'Position', 'No', 'Driver', 'Team', 'Starting Grid', 'Laps',\n",
       "       'Time/Retired', 'Points', 'Set Fastest Lap', 'Fastest Lap Time'],\n",
       "      dtype='object')"
      ]
     },
     "execution_count": 59,
     "metadata": {},
     "output_type": "execute_result"
    }
   ],
   "source": [
    "race_results2023_df.columns"
   ]
  },
  {
   "cell_type": "code",
   "execution_count": 60,
   "id": "d7edc35b",
   "metadata": {},
   "outputs": [
    {
     "data": {
      "text/plain": [
       "Index(['Team', 'Full Team Name', 'Base', 'Team Chief', 'Technical Chief',\n",
       "       'Chassis', 'Power Unit', 'First Team Entry', 'World Championships',\n",
       "       'Highest Race Finish', 'Pole Positions', 'Fastest Laps'],\n",
       "      dtype='object')"
      ]
     },
     "execution_count": 60,
     "metadata": {},
     "output_type": "execute_result"
    }
   ],
   "source": [
    "teams2023_df.columns"
   ]
  },
  {
   "cell_type": "markdown",
   "id": "c2432fec",
   "metadata": {},
   "source": [
    "# ------------------------------------------------------------------------------------"
   ]
  },
  {
   "cell_type": "markdown",
   "id": "2571d14c",
   "metadata": {},
   "source": [
    "4.2. Calendar Modifications"
   ]
  },
  {
   "cell_type": "code",
   "execution_count": 61,
   "id": "9f520c5b",
   "metadata": {},
   "outputs": [
    {
     "data": {
      "text/plain": [
       "array(['Bahrain International Circuit', 'Jeddah Corniche Circuit',\n",
       "       'Melbourne Grand Prix Circuit', 'Baku City Circuit',\n",
       "       'Miami International Autodrome', 'Circuit de Monaco',\n",
       "       'Circuit de Barcelona-Catalunya', 'Circuit Gilles-Villeneuve',\n",
       "       'Red Bull Ring', 'Silverstone Circuit', 'Hungaroring',\n",
       "       'Circuit de Spa-Francorchamps', 'Circuit Zandvoort',\n",
       "       'Autodromo Nazionale Monza', 'Marina Bay Street Circuit',\n",
       "       'Suzuka International Racing Course',\n",
       "       'Lusail International Circuit', 'Circuit of The Americas',\n",
       "       'Autodromo Hermanos Rodriguez', 'Autodromo Jose Carlos Pace',\n",
       "       'Las Vegas Strip Circuit', 'Yas Marina Circuit'], dtype=object)"
      ]
     },
     "execution_count": 61,
     "metadata": {},
     "output_type": "execute_result"
    }
   ],
   "source": [
    "# Emilia Romagna Grand Prix was cancelled \n",
    "calendar2023_df = calendar2023_df[calendar2023_df['Circuit Name'] != 'Autodromo Enzo e Dino Ferrari']\n",
    "calendar2023_df['Circuit Name'].unique()"
   ]
  },
  {
   "cell_type": "markdown",
   "id": "902a6f74",
   "metadata": {},
   "source": [
    "4.3. Race Results Modifications"
   ]
  },
  {
   "cell_type": "code",
   "execution_count": 62,
   "id": "a6809847",
   "metadata": {},
   "outputs": [
    {
     "data": {
      "text/plain": [
       "Index(['Track', 'Position', 'No', 'Driver', 'Team', 'Starting Grid', 'Laps',\n",
       "       'Time/Retired', 'Points', 'Set Fastest Lap', 'Fastest Lap Time'],\n",
       "      dtype='object')"
      ]
     },
     "execution_count": 62,
     "metadata": {},
     "output_type": "execute_result"
    }
   ],
   "source": [
    "race_results2023_df.columns"
   ]
  },
  {
   "cell_type": "code",
   "execution_count": 63,
   "id": "945d861b",
   "metadata": {},
   "outputs": [
    {
     "data": {
      "text/plain": [
       "array(['Bahrain', 'Saudi Arabia', 'Australia', 'Azerbaijan', 'Miami',\n",
       "       'Monaco', 'Spain', 'Canada', 'Austria', 'Great Britain', 'Hungary',\n",
       "       'Belgium', 'Netherlands', 'Italy', 'Singapore', 'Japan', 'Qatar',\n",
       "       'United States', 'Mexico', 'Brazil', 'Las Vegas', 'Abu Dhabi'],\n",
       "      dtype=object)"
      ]
     },
     "execution_count": 63,
     "metadata": {},
     "output_type": "execute_result"
    }
   ],
   "source": [
    "# Renaming a column\n",
    "race_results2023_df.rename(columns={'Starting Grid': 'Race Starting Grid','Laps':'Race Laps', 'Points':'Race Points', 'Position':'Race Position', 'Set Fastest Lap': 'Race Fastest Lap', 'Time/Retired':'Race Time/Retired'}, inplace=True)\n",
    "race_results2023_df['Track'].unique()"
   ]
  },
  {
   "cell_type": "code",
   "execution_count": 64,
   "id": "6e0515b6",
   "metadata": {},
   "outputs": [
    {
     "data": {
      "text/plain": [
       "array(['Bahrain International Circuit', 'Jeddah Corniche Circuit',\n",
       "       'Melbourne Grand Prix Circuit', 'Baku City Circuit',\n",
       "       'Miami International Autodrome', 'Circuit de Monaco',\n",
       "       'Circuit de Barcelona-Catalunya', 'Circuit Gilles-Villeneuve',\n",
       "       'Red Bull Ring', 'Silverstone Circuit', 'Hungaroring',\n",
       "       'Circuit de Spa-Francorchamps', 'Circuit Zandvoort',\n",
       "       'Autodromo Nazionale Monza', 'Marina Bay Street Circuit',\n",
       "       'Suzuka International Racing Course',\n",
       "       'Lusail International Circuit', 'Circuit of The Americas',\n",
       "       'Autodromo Hermanos Rodriguez', 'Autodromo Jose Carlos Pace',\n",
       "       'Las Vegas Strip Circuit', 'Yas Marina Circuit'], dtype=object)"
      ]
     },
     "execution_count": 64,
     "metadata": {},
     "output_type": "execute_result"
    }
   ],
   "source": [
    "calendar2023_df['Circuit Name'].unique()"
   ]
  },
  {
   "cell_type": "code",
   "execution_count": 65,
   "id": "75b4f2da",
   "metadata": {},
   "outputs": [
    {
     "data": {
      "text/plain": [
       "array(['Bahrain International Circuit', 'Jeddah Corniche Circuit',\n",
       "       'Melbourne Grand Prix Circuit', 'Baku City Circuit',\n",
       "       'Miami International Autodrome', 'Circuit de Monaco',\n",
       "       'Circuit de Barcelona-Catalunya', 'Circuit Gilles-Villeneuve',\n",
       "       'Red Bull Ring', 'Silverstone Circuit', 'Hungaroring',\n",
       "       'Circuit de Spa-Francorchamps', 'Circuit Zandvoort',\n",
       "       'Autodromo Nazionale Monza', 'Marina Bay Street Circuit',\n",
       "       'Suzuka International Racing Course',\n",
       "       'Lusail International Circuit', 'Circuit of The Americas',\n",
       "       'Autodromo Hermanos Rodriguez', 'Autodromo Jose Carlos Pace',\n",
       "       'Las Vegas Strip Circuit', 'Yas Marina Circuit'], dtype=object)"
      ]
     },
     "execution_count": 65,
     "metadata": {},
     "output_type": "execute_result"
    }
   ],
   "source": [
    "# Mapping dictionary to align track names to full circuit names\n",
    "track_name_mapping_2023 = {\n",
    "    'Bahrain': 'Bahrain International Circuit',\n",
    "    'Saudi Arabia': 'Jeddah Corniche Circuit',\n",
    "    'Australia': 'Melbourne Grand Prix Circuit',\n",
    "    'Azerbaijan': 'Baku City Circuit',\n",
    "    'Miami': 'Miami International Autodrome',\n",
    "    'Monaco': 'Circuit de Monaco',\n",
    "    'Spain': 'Circuit de Barcelona-Catalunya',\n",
    "    'Canada': 'Circuit Gilles-Villeneuve',\n",
    "    'Austria': 'Red Bull Ring',\n",
    "    'Great Britain': 'Silverstone Circuit',\n",
    "    'Hungary': 'Hungaroring',\n",
    "    'Belgium': 'Circuit de Spa-Francorchamps',\n",
    "    'Netherlands': 'Circuit Zandvoort',\n",
    "    'Italy': 'Autodromo Nazionale Monza',\n",
    "    'Singapore': 'Marina Bay Street Circuit',\n",
    "    'Japan': 'Suzuka International Racing Course',\n",
    "    'Qatar': 'Lusail International Circuit',\n",
    "    'United States': 'Circuit of The Americas',\n",
    "    'Mexico': 'Autodromo Hermanos Rodriguez',\n",
    "    'Brazil': 'Autodromo Jose Carlos Pace',\n",
    "    'Las Vegas': 'Las Vegas Strip Circuit',\n",
    "    'Abu Dhabi': 'Yas Marina Circuit'\n",
    "}\n",
    "\n",
    "\n",
    "# Applying the mapping to ensure consistency in track names\n",
    "race_results2023_df['Track'] = race_results2023_df['Track'].replace(track_name_mapping_2023)\n",
    "race_results2023_df['Track'].unique()"
   ]
  },
  {
   "cell_type": "code",
   "execution_count": 66,
   "id": "f522d480",
   "metadata": {},
   "outputs": [],
   "source": [
    "# Create country and city mappings with the new tracks\n",
    "\n",
    "track_to_country_2023 = {\n",
    "    'Bahrain International Circuit': 'Bahrain',\n",
    "    'Jeddah Corniche Circuit': 'Saudi Arabia',\n",
    "    'Melbourne Grand Prix Circuit': 'Australia',\n",
    "    'Baku City Circuit': 'Azerbaijan',\n",
    "    'Miami International Autodrome': 'United States',\n",
    "    'Autodromo Nazionale Monza': 'Italy',\n",
    "    'Circuit de Monaco': 'Monaco',\n",
    "    'Circuit de Barcelona-Catalunya': 'Spain',\n",
    "    'Circuit Gilles-Villeneuve': 'Canada',\n",
    "    'Red Bull Ring': 'Austria',\n",
    "    'Silverstone Circuit': 'United Kingdom',\n",
    "    'Hungaroring': 'Hungary',\n",
    "    'Circuit de Spa-Francorchamps': 'Belgium',\n",
    "    'Circuit Zandvoort': 'Netherlands',\n",
    "    'Marina Bay Street Circuit': 'Singapore',\n",
    "    'Suzuka International Racing Course': 'Japan',\n",
    "    'Lusail International Circuit': 'Qatar',\n",
    "    'Circuit of The Americas': 'United States',\n",
    "    'Autodromo Hermanos Rodriguez': 'Mexico',\n",
    "    'Autodromo Jose Carlos Pace': 'Brazil',\n",
    "    'Las Vegas Strip Circuit': 'United States',\n",
    "    'Yas Marina Circuit': 'United Arab Emirates'\n",
    "}\n",
    "\n",
    "track_to_city_2023 = {\n",
    "    'Bahrain International Circuit': 'Sakhir',\n",
    "    'Jeddah Corniche Circuit': 'Jeddah',\n",
    "    'Melbourne Grand Prix Circuit': 'Melbourne',\n",
    "    'Baku City Circuit': 'Baku',\n",
    "    'Miami International Autodrome': 'Miami',\n",
    "    'Autodromo Nazionale Monza': 'Monza',\n",
    "    'Circuit de Monaco': 'Monte Carlo',\n",
    "    'Circuit de Barcelona-Catalunya': 'Barcelona',\n",
    "    'Circuit Gilles-Villeneuve': 'Montreal',\n",
    "    'Red Bull Ring': 'Spielberg',\n",
    "    'Silverstone Circuit': 'Silverstone',\n",
    "    'Hungaroring': 'Mogyoród',\n",
    "    'Circuit de Spa-Francorchamps': 'Spa',\n",
    "    'Circuit Zandvoort': 'Zandvoort',\n",
    "    'Marina Bay Street Circuit': 'Singapore',\n",
    "    'Suzuka International Racing Course': 'Suzuka',\n",
    "    'Lusail International Circuit': 'Lusail',\n",
    "    'Circuit of The Americas': 'Austin',\n",
    "    'Autodromo Hermanos Rodriguez': 'Mexico City',\n",
    "    'Autodromo Jose Carlos Pace': 'São Paulo',\n",
    "    'Las Vegas Strip Circuit': 'Las Vegas',\n",
    "    'Yas Marina Circuit': 'Abu Dhabi'\n",
    "}\n",
    "\n",
    "# Adding new columns for country and city\n",
    "race_results2023_df['Country'] = race_results2023_df['Track'].map(track_to_country_2023)\n",
    "race_results2023_df['City'] = race_results2023_df['Track'].map(track_to_city_2023)\n",
    "\n",
    "# Display the updated DataFrame to verify the changes\n",
    "race_results2023_df.rename(columns={'Track': 'Circuit Name'}, inplace=True)"
   ]
  },
  {
   "cell_type": "code",
   "execution_count": 67,
   "id": "00dae097",
   "metadata": {},
   "outputs": [
    {
     "data": {
      "text/html": [
       "<div>\n",
       "<style scoped>\n",
       "    .dataframe tbody tr th:only-of-type {\n",
       "        vertical-align: middle;\n",
       "    }\n",
       "\n",
       "    .dataframe tbody tr th {\n",
       "        vertical-align: top;\n",
       "    }\n",
       "\n",
       "    .dataframe thead th {\n",
       "        text-align: right;\n",
       "    }\n",
       "</style>\n",
       "<table border=\"1\" class=\"dataframe\">\n",
       "  <thead>\n",
       "    <tr style=\"text-align: right;\">\n",
       "      <th></th>\n",
       "      <th>Year</th>\n",
       "      <th>Country</th>\n",
       "      <th>City</th>\n",
       "      <th>Circuit Name</th>\n",
       "      <th>Race Position</th>\n",
       "      <th>No</th>\n",
       "      <th>Driver</th>\n",
       "      <th>Team</th>\n",
       "      <th>Race Starting Grid</th>\n",
       "      <th>Race Laps</th>\n",
       "      <th>Race Time/Retired</th>\n",
       "      <th>Race Points</th>\n",
       "      <th>Race Fastest Lap</th>\n",
       "    </tr>\n",
       "  </thead>\n",
       "  <tbody>\n",
       "    <tr>\n",
       "      <th>0</th>\n",
       "      <td>2023</td>\n",
       "      <td>Bahrain</td>\n",
       "      <td>Sakhir</td>\n",
       "      <td>Bahrain International Circuit</td>\n",
       "      <td>1</td>\n",
       "      <td>1</td>\n",
       "      <td>Max Verstappen</td>\n",
       "      <td>Red Bull Racing Honda RBPT</td>\n",
       "      <td>1</td>\n",
       "      <td>57</td>\n",
       "      <td>1:33:56.736</td>\n",
       "      <td>25</td>\n",
       "      <td>No</td>\n",
       "    </tr>\n",
       "  </tbody>\n",
       "</table>\n",
       "</div>"
      ],
      "text/plain": [
       "   Year  Country    City                   Circuit Name Race Position  No  \\\n",
       "0  2023  Bahrain  Sakhir  Bahrain International Circuit             1   1   \n",
       "\n",
       "           Driver                        Team  Race Starting Grid  Race Laps  \\\n",
       "0  Max Verstappen  Red Bull Racing Honda RBPT                   1         57   \n",
       "\n",
       "  Race Time/Retired  Race Points Race Fastest Lap  \n",
       "0       1:33:56.736           25               No  "
      ]
     },
     "execution_count": 67,
     "metadata": {},
     "output_type": "execute_result"
    }
   ],
   "source": [
    "# Add a new column 'Year' with the value 2022 for all rows\n",
    "race_results2023_df['Year'] = 2023\n",
    "\n",
    "# Reorder the columns\n",
    "race_results2023_df = race_results2023_df[['Year', 'Country', 'City', 'Circuit Name',\n",
    "                                           'Race Position', 'No', 'Driver', 'Team',\n",
    "                                           'Race Starting Grid', 'Race Laps', 'Race Time/Retired',\n",
    "                                           'Race Points', 'Race Fastest Lap']]\n",
    "race_results2023_df.head(1)"
   ]
  },
  {
   "cell_type": "code",
   "execution_count": 68,
   "id": "6dc3c67c",
   "metadata": {},
   "outputs": [
    {
     "data": {
      "text/html": [
       "<div>\n",
       "<style scoped>\n",
       "    .dataframe tbody tr th:only-of-type {\n",
       "        vertical-align: middle;\n",
       "    }\n",
       "\n",
       "    .dataframe tbody tr th {\n",
       "        vertical-align: top;\n",
       "    }\n",
       "\n",
       "    .dataframe thead th {\n",
       "        text-align: right;\n",
       "    }\n",
       "</style>\n",
       "<table border=\"1\" class=\"dataframe\">\n",
       "  <thead>\n",
       "    <tr style=\"text-align: right;\">\n",
       "      <th></th>\n",
       "      <th>Year</th>\n",
       "      <th>Country</th>\n",
       "      <th>City</th>\n",
       "      <th>Circuit Name</th>\n",
       "      <th>Race Position</th>\n",
       "      <th>No</th>\n",
       "      <th>Driver</th>\n",
       "      <th>Team</th>\n",
       "      <th>Race Starting Grid</th>\n",
       "      <th>Race Laps</th>\n",
       "      <th>Race Time/Retired</th>\n",
       "      <th>Race Points</th>\n",
       "      <th>Race Fastest Lap</th>\n",
       "      <th>Circuit_Driver</th>\n",
       "    </tr>\n",
       "  </thead>\n",
       "  <tbody>\n",
       "    <tr>\n",
       "      <th>0</th>\n",
       "      <td>2023</td>\n",
       "      <td>Bahrain</td>\n",
       "      <td>Sakhir</td>\n",
       "      <td>Bahrain International Circuit</td>\n",
       "      <td>1</td>\n",
       "      <td>1</td>\n",
       "      <td>Max Verstappen</td>\n",
       "      <td>Red Bull Racing Honda RBPT</td>\n",
       "      <td>1</td>\n",
       "      <td>57</td>\n",
       "      <td>1:33:56.736</td>\n",
       "      <td>25</td>\n",
       "      <td>No</td>\n",
       "      <td>2023_Sakhir_Max Verstappen</td>\n",
       "    </tr>\n",
       "  </tbody>\n",
       "</table>\n",
       "</div>"
      ],
      "text/plain": [
       "   Year  Country    City                   Circuit Name Race Position  No  \\\n",
       "0  2023  Bahrain  Sakhir  Bahrain International Circuit             1   1   \n",
       "\n",
       "           Driver                        Team  Race Starting Grid  Race Laps  \\\n",
       "0  Max Verstappen  Red Bull Racing Honda RBPT                   1         57   \n",
       "\n",
       "  Race Time/Retired  Race Points Race Fastest Lap              Circuit_Driver  \n",
       "0       1:33:56.736           25               No  2023_Sakhir_Max Verstappen  "
      ]
     },
     "execution_count": 68,
     "metadata": {},
     "output_type": "execute_result"
    }
   ],
   "source": [
    "# Calculate the key column based on Year, City, and Driver\n",
    "race_results2023_df['Circuit_Driver'] = race_results2023_df['Year'].astype(str) + '_' + race_results2023_df['City'] + '_' + race_results2023_df['Driver']\n",
    "race_results2023_df.head(1)"
   ]
  },
  {
   "cell_type": "markdown",
   "id": "d875c6ee",
   "metadata": {},
   "source": [
    "# ------------------------------------------------------------------------------------"
   ]
  },
  {
   "cell_type": "markdown",
   "id": "58316d8a",
   "metadata": {},
   "source": [
    "4.3. Qualifying Results Modifications"
   ]
  },
  {
   "cell_type": "code",
   "execution_count": 69,
   "id": "d1b49174",
   "metadata": {},
   "outputs": [
    {
     "data": {
      "text/plain": [
       "Index(['Track', 'Position', 'No', 'Driver', 'Team', 'Q1', 'Q2', 'Q3', 'Laps'], dtype='object')"
      ]
     },
     "execution_count": 69,
     "metadata": {},
     "output_type": "execute_result"
    }
   ],
   "source": [
    "qualifying_results2023_df.columns"
   ]
  },
  {
   "cell_type": "code",
   "execution_count": 70,
   "id": "c19f20ec",
   "metadata": {},
   "outputs": [
    {
     "data": {
      "text/plain": [
       "array(['Bahrain', 'Saudi Arabia', 'Australia', 'Azerbaijan', 'Miami',\n",
       "       'Monaco', 'Spain', 'Canada', 'Austria', 'Great Britain', 'Hungary',\n",
       "       'Belgium', 'Netherlands', 'Italy', 'Singapore', 'Japan', 'Qatar',\n",
       "       'United States', 'Mexico', 'Brazil', 'Las Vegas', 'Abu Dhabi'],\n",
       "      dtype=object)"
      ]
     },
     "execution_count": 70,
     "metadata": {},
     "output_type": "execute_result"
    }
   ],
   "source": [
    "# Renaming a column\n",
    "qualifying_results2023_df.rename(columns={'Laps':'Qualifying Laps', 'Position': 'Qualifying Position'}, inplace=True)\n",
    "\n",
    "qualifying_results2023_df['Track'].unique()    "
   ]
  },
  {
   "cell_type": "code",
   "execution_count": 71,
   "id": "76401853",
   "metadata": {},
   "outputs": [],
   "source": [
    "# Mapping dictionary to align track names to full circuit names\n",
    "track_qualy_mapping_2023 = {\n",
    "    'Bahrain': 'Bahrain International Circuit',\n",
    "    'Saudi Arabia': 'Jeddah Corniche Circuit',\n",
    "    'Australia': 'Melbourne Grand Prix Circuit',\n",
    "    'Azerbaijan': 'Baku City Circuit',\n",
    "    'Miami': 'Miami International Autodrome',\n",
    "    'Monaco': 'Circuit de Monaco',\n",
    "    'Spain': 'Circuit de Barcelona-Catalunya',\n",
    "    'Canada': 'Circuit Gilles-Villeneuve',\n",
    "    'Austria': 'Red Bull Ring',\n",
    "    'Great Britain': 'Silverstone Circuit',\n",
    "    'Hungary': 'Hungaroring',\n",
    "    'Belgium': 'Circuit de Spa-Francorchamps',\n",
    "    'Netherlands': 'Circuit Zandvoort',\n",
    "    'Italy': 'Autodromo Nazionale Monza',\n",
    "    'Singapore': 'Marina Bay Street Circuit',\n",
    "    'Japan': 'Suzuka International Racing Course',\n",
    "    'Qatar': 'Lusail International Circuit',\n",
    "    'United States': 'Circuit of The Americas',\n",
    "    'Mexico': 'Autodromo Hermanos Rodriguez',\n",
    "    'Brazil': 'Autodromo Jose Carlos Pace',\n",
    "    'Las Vegas': 'Las Vegas Strip Circuit',\n",
    "    'Abu Dhabi': 'Yas Marina Circuit'\n",
    "}\n",
    "\n",
    "\n",
    "# Applying the mapping to ensure consistency in track names\n",
    "qualifying_results2023_df['Track'] = qualifying_results2023_df['Track'].replace(track_qualy_mapping_2023)"
   ]
  },
  {
   "cell_type": "code",
   "execution_count": 72,
   "id": "a2fc4315",
   "metadata": {},
   "outputs": [],
   "source": [
    "# Create country and city mappings with the new tracks\n",
    "\n",
    "track_qualy_to_country_2023 = {\n",
    "    'Bahrain International Circuit': 'Bahrain',\n",
    "    'Jeddah Corniche Circuit': 'Saudi Arabia',\n",
    "    'Melbourne Grand Prix Circuit': 'Australia',\n",
    "    'Baku City Circuit': 'Azerbaijan',\n",
    "    'Miami International Autodrome': 'United States',\n",
    "    'Autodromo Nazionale Monza': 'Italy',\n",
    "    'Circuit de Monaco': 'Monaco',\n",
    "    'Circuit de Barcelona-Catalunya': 'Spain',\n",
    "    'Circuit Gilles-Villeneuve': 'Canada',\n",
    "    'Red Bull Ring': 'Austria',\n",
    "    'Silverstone Circuit': 'United Kingdom',\n",
    "    'Hungaroring': 'Hungary',\n",
    "    'Circuit de Spa-Francorchamps': 'Belgium',\n",
    "    'Circuit Zandvoort': 'Netherlands',\n",
    "    'Marina Bay Street Circuit': 'Singapore',\n",
    "    'Suzuka International Racing Course': 'Japan',\n",
    "    'Lusail International Circuit': 'Qatar',\n",
    "    'Circuit of The Americas': 'United States',\n",
    "    'Autodromo Hermanos Rodriguez': 'Mexico',\n",
    "    'Autodromo Jose Carlos Pace': 'Brazil',\n",
    "    'Las Vegas Strip Circuit': 'United States',\n",
    "    'Yas Marina Circuit': 'United Arab Emirates'\n",
    "}\n",
    "\n",
    "track_qualy_to_city_2023 = {\n",
    "    'Bahrain International Circuit': 'Sakhir',\n",
    "    'Jeddah Corniche Circuit': 'Jeddah',\n",
    "    'Melbourne Grand Prix Circuit': 'Melbourne',\n",
    "    'Baku City Circuit': 'Baku',\n",
    "    'Miami International Autodrome': 'Miami',\n",
    "    'Autodromo Nazionale Monza': 'Monza',\n",
    "    'Circuit de Monaco': 'Monte Carlo',\n",
    "    'Circuit de Barcelona-Catalunya': 'Barcelona',\n",
    "    'Circuit Gilles-Villeneuve': 'Montreal',\n",
    "    'Red Bull Ring': 'Spielberg',\n",
    "    'Silverstone Circuit': 'Silverstone',\n",
    "    'Hungaroring': 'Mogyoród',\n",
    "    'Circuit de Spa-Francorchamps': 'Spa',\n",
    "    'Circuit Zandvoort': 'Zandvoort',\n",
    "    'Marina Bay Street Circuit': 'Singapore',\n",
    "    'Suzuka International Racing Course': 'Suzuka',\n",
    "    'Lusail International Circuit': 'Lusail',\n",
    "    'Circuit of The Americas': 'Austin',\n",
    "    'Autodromo Hermanos Rodriguez': 'Mexico City',\n",
    "    'Autodromo Jose Carlos Pace': 'São Paulo',\n",
    "    'Las Vegas Strip Circuit': 'Las Vegas',\n",
    "    'Yas Marina Circuit': 'Abu Dhabi'\n",
    "}\n",
    "\n",
    "# Adding new columns for country and city\n",
    "qualifying_results2023_df['Country'] = qualifying_results2023_df['Track'].map(track_qualy_to_country_2023)\n",
    "qualifying_results2023_df['City'] = qualifying_results2023_df['Track'].map(track_qualy_to_city_2023)\n",
    "\n",
    "# Display the updated DataFrame to verify the changes\n",
    "qualifying_results2023_df.rename(columns={'Track': 'Circuit Name'}, inplace=True)"
   ]
  },
  {
   "cell_type": "code",
   "execution_count": 73,
   "id": "39ce7f2b",
   "metadata": {},
   "outputs": [
    {
     "data": {
      "text/html": [
       "<div>\n",
       "<style scoped>\n",
       "    .dataframe tbody tr th:only-of-type {\n",
       "        vertical-align: middle;\n",
       "    }\n",
       "\n",
       "    .dataframe tbody tr th {\n",
       "        vertical-align: top;\n",
       "    }\n",
       "\n",
       "    .dataframe thead th {\n",
       "        text-align: right;\n",
       "    }\n",
       "</style>\n",
       "<table border=\"1\" class=\"dataframe\">\n",
       "  <thead>\n",
       "    <tr style=\"text-align: right;\">\n",
       "      <th></th>\n",
       "      <th>Circuit Name</th>\n",
       "      <th>Qualifying Position</th>\n",
       "      <th>No</th>\n",
       "      <th>Driver</th>\n",
       "      <th>Team</th>\n",
       "      <th>Q1</th>\n",
       "      <th>Q2</th>\n",
       "      <th>Q3</th>\n",
       "      <th>Qualifying Laps</th>\n",
       "      <th>Country</th>\n",
       "      <th>City</th>\n",
       "      <th>Year</th>\n",
       "      <th>Circuit_Driver</th>\n",
       "    </tr>\n",
       "  </thead>\n",
       "  <tbody>\n",
       "    <tr>\n",
       "      <th>0</th>\n",
       "      <td>Bahrain International Circuit</td>\n",
       "      <td>1</td>\n",
       "      <td>1</td>\n",
       "      <td>Max Verstappen</td>\n",
       "      <td>Red Bull Racing Honda RBPT</td>\n",
       "      <td>1:31.295</td>\n",
       "      <td>1:30.503</td>\n",
       "      <td>1:29.708</td>\n",
       "      <td>15</td>\n",
       "      <td>Bahrain</td>\n",
       "      <td>Sakhir</td>\n",
       "      <td>2023</td>\n",
       "      <td>2023_Sakhir_Max Verstappen</td>\n",
       "    </tr>\n",
       "  </tbody>\n",
       "</table>\n",
       "</div>"
      ],
      "text/plain": [
       "                    Circuit Name Qualifying Position  No          Driver  \\\n",
       "0  Bahrain International Circuit                   1   1  Max Verstappen   \n",
       "\n",
       "                         Team        Q1        Q2        Q3  Qualifying Laps  \\\n",
       "0  Red Bull Racing Honda RBPT  1:31.295  1:30.503  1:29.708               15   \n",
       "\n",
       "   Country    City  Year              Circuit_Driver  \n",
       "0  Bahrain  Sakhir  2023  2023_Sakhir_Max Verstappen  "
      ]
     },
     "execution_count": 73,
     "metadata": {},
     "output_type": "execute_result"
    }
   ],
   "source": [
    "# Add a new column 'Year' with the value 2022 for all rows\n",
    "qualifying_results2023_df['Year'] = 2023\n",
    "\n",
    "# Calculate the key column based on Year, City, and Driver\n",
    "qualifying_results2023_df['Circuit_Driver'] = qualifying_results2023_df['Year'].astype(str) + '_' + qualifying_results2023_df['City'] + '_' + qualifying_results2023_df['Driver']\n",
    "qualifying_results2023_df.head(1)"
   ]
  },
  {
   "cell_type": "markdown",
   "id": "2a8843fd",
   "metadata": {},
   "source": [
    "# ------------------------------------------------------------------------------------"
   ]
  },
  {
   "cell_type": "markdown",
   "id": "2de71510",
   "metadata": {},
   "source": [
    "4.4. Drivers File Modification"
   ]
  },
  {
   "cell_type": "code",
   "execution_count": 74,
   "id": "418eb7aa",
   "metadata": {},
   "outputs": [
    {
     "data": {
      "text/html": [
       "<div>\n",
       "<style scoped>\n",
       "    .dataframe tbody tr th:only-of-type {\n",
       "        vertical-align: middle;\n",
       "    }\n",
       "\n",
       "    .dataframe tbody tr th {\n",
       "        vertical-align: top;\n",
       "    }\n",
       "\n",
       "    .dataframe thead th {\n",
       "        text-align: right;\n",
       "    }\n",
       "</style>\n",
       "<table border=\"1\" class=\"dataframe\">\n",
       "  <thead>\n",
       "    <tr style=\"text-align: right;\">\n",
       "      <th></th>\n",
       "      <th>Driver</th>\n",
       "      <th>Abbreviation</th>\n",
       "      <th>No</th>\n",
       "      <th>Team</th>\n",
       "      <th>Country</th>\n",
       "      <th>Podiums</th>\n",
       "      <th>Points</th>\n",
       "      <th>Grands Prix Entered</th>\n",
       "      <th>World Championships</th>\n",
       "      <th>Highest Race Finish</th>\n",
       "      <th>Highest Grid Position</th>\n",
       "      <th>Date of Birth</th>\n",
       "      <th>Place of Birth</th>\n",
       "    </tr>\n",
       "  </thead>\n",
       "  <tbody>\n",
       "    <tr>\n",
       "      <th>0</th>\n",
       "      <td>Max Verstappen</td>\n",
       "      <td>VER</td>\n",
       "      <td>1</td>\n",
       "      <td>Red Bull Racing</td>\n",
       "      <td>Netherlands</td>\n",
       "      <td>98</td>\n",
       "      <td>2586.5</td>\n",
       "      <td>185</td>\n",
       "      <td>3</td>\n",
       "      <td>1(x54)</td>\n",
       "      <td>1</td>\n",
       "      <td>30/09/1997</td>\n",
       "      <td>Hasselt, Belgium</td>\n",
       "    </tr>\n",
       "  </tbody>\n",
       "</table>\n",
       "</div>"
      ],
      "text/plain": [
       "           Driver Abbreviation  No             Team      Country  Podiums  \\\n",
       "0  Max Verstappen          VER   1  Red Bull Racing  Netherlands       98   \n",
       "\n",
       "   Points  Grands Prix Entered  World Championships Highest Race Finish  \\\n",
       "0  2586.5                  185                    3              1(x54)   \n",
       "\n",
       "   Highest Grid Position Date of Birth    Place of Birth  \n",
       "0                      1    30/09/1997  Hasselt, Belgium  "
      ]
     },
     "execution_count": 74,
     "metadata": {},
     "output_type": "execute_result"
    }
   ],
   "source": [
    "drivers2023_df.head(1)"
   ]
  },
  {
   "cell_type": "code",
   "execution_count": 75,
   "id": "4e6386ec",
   "metadata": {},
   "outputs": [
    {
     "data": {
      "text/html": [
       "<div>\n",
       "<style scoped>\n",
       "    .dataframe tbody tr th:only-of-type {\n",
       "        vertical-align: middle;\n",
       "    }\n",
       "\n",
       "    .dataframe tbody tr th {\n",
       "        vertical-align: top;\n",
       "    }\n",
       "\n",
       "    .dataframe thead th {\n",
       "        text-align: right;\n",
       "    }\n",
       "</style>\n",
       "<table border=\"1\" class=\"dataframe\">\n",
       "  <thead>\n",
       "    <tr style=\"text-align: right;\">\n",
       "      <th></th>\n",
       "      <th>Driver</th>\n",
       "      <th>Abbreviation</th>\n",
       "      <th>No</th>\n",
       "      <th>Team</th>\n",
       "      <th>Country</th>\n",
       "      <th>Podiums</th>\n",
       "      <th>Points</th>\n",
       "      <th>Grands Prix Entered</th>\n",
       "      <th>World Championships</th>\n",
       "      <th>Highest Race Finish</th>\n",
       "      <th>Highest Grid Position</th>\n",
       "      <th>Date of Birth</th>\n",
       "      <th>Place of Birth</th>\n",
       "      <th>Nº of Highest Race Finish</th>\n",
       "    </tr>\n",
       "  </thead>\n",
       "  <tbody>\n",
       "    <tr>\n",
       "      <th>0</th>\n",
       "      <td>Max Verstappen</td>\n",
       "      <td>VER</td>\n",
       "      <td>1</td>\n",
       "      <td>Red Bull Racing</td>\n",
       "      <td>Netherlands</td>\n",
       "      <td>98</td>\n",
       "      <td>2586.5</td>\n",
       "      <td>185</td>\n",
       "      <td>3</td>\n",
       "      <td>1</td>\n",
       "      <td>1</td>\n",
       "      <td>30/09/1997</td>\n",
       "      <td>Hasselt, Belgium</td>\n",
       "      <td>54</td>\n",
       "    </tr>\n",
       "  </tbody>\n",
       "</table>\n",
       "</div>"
      ],
      "text/plain": [
       "           Driver Abbreviation  No             Team      Country  Podiums  \\\n",
       "0  Max Verstappen          VER   1  Red Bull Racing  Netherlands       98   \n",
       "\n",
       "   Points  Grands Prix Entered  World Championships  Highest Race Finish  \\\n",
       "0  2586.5                  185                    3                    1   \n",
       "\n",
       "   Highest Grid Position Date of Birth    Place of Birth  \\\n",
       "0                      1    30/09/1997  Hasselt, Belgium   \n",
       "\n",
       "   Nº of Highest Race Finish  \n",
       "0                         54  "
      ]
     },
     "execution_count": 75,
     "metadata": {},
     "output_type": "execute_result"
    }
   ],
   "source": [
    "# Splitting the 'Highest Race Finish' column\n",
    "drivers2023_df[['Highest Race Finish', 'Nº of Highest Race Finish']] = drivers2023_df['Highest Race Finish'].str.extract(r'(\\d+)\\(x(\\d+)\\)')\n",
    "# Convert the new columns to integer type\n",
    "drivers2023_df['Highest Race Finish'] = drivers2023_df['Highest Race Finish'].astype(int)\n",
    "drivers2023_df['Nº of Highest Race Finish'] = drivers2023_df['Nº of Highest Race Finish'].astype(int)\n",
    "\n",
    "drivers2023_df.head(1)"
   ]
  },
  {
   "cell_type": "markdown",
   "id": "c2aed52b",
   "metadata": {},
   "source": [
    "# ------------------------------------------------------------------------------------"
   ]
  },
  {
   "cell_type": "markdown",
   "id": "fbdb67f5",
   "metadata": {},
   "source": [
    "4.5. Teams File Modification"
   ]
  },
  {
   "cell_type": "code",
   "execution_count": 76,
   "id": "ec6e559d",
   "metadata": {},
   "outputs": [
    {
     "data": {
      "text/html": [
       "<div>\n",
       "<style scoped>\n",
       "    .dataframe tbody tr th:only-of-type {\n",
       "        vertical-align: middle;\n",
       "    }\n",
       "\n",
       "    .dataframe tbody tr th {\n",
       "        vertical-align: top;\n",
       "    }\n",
       "\n",
       "    .dataframe thead th {\n",
       "        text-align: right;\n",
       "    }\n",
       "</style>\n",
       "<table border=\"1\" class=\"dataframe\">\n",
       "  <thead>\n",
       "    <tr style=\"text-align: right;\">\n",
       "      <th></th>\n",
       "      <th>Team</th>\n",
       "      <th>Full Team Name</th>\n",
       "      <th>Base</th>\n",
       "      <th>Team Chief</th>\n",
       "      <th>Technical Chief</th>\n",
       "      <th>Chassis</th>\n",
       "      <th>Power Unit</th>\n",
       "      <th>First Team Entry</th>\n",
       "      <th>World Championships</th>\n",
       "      <th>Highest Race Finish</th>\n",
       "      <th>Pole Positions</th>\n",
       "      <th>Fastest Laps</th>\n",
       "    </tr>\n",
       "  </thead>\n",
       "  <tbody>\n",
       "    <tr>\n",
       "      <th>0</th>\n",
       "      <td>Red Bull Racing</td>\n",
       "      <td>Oracle Red Bull Racing</td>\n",
       "      <td>Milton Keynes, United Kingdom</td>\n",
       "      <td>Christain Horner</td>\n",
       "      <td>Pierre Waché</td>\n",
       "      <td>RB19</td>\n",
       "      <td>Honda RBPT</td>\n",
       "      <td>1997</td>\n",
       "      <td>6</td>\n",
       "      <td>1(x113)</td>\n",
       "      <td>95</td>\n",
       "      <td>95</td>\n",
       "    </tr>\n",
       "  </tbody>\n",
       "</table>\n",
       "</div>"
      ],
      "text/plain": [
       "              Team          Full Team Name                           Base  \\\n",
       "0  Red Bull Racing  Oracle Red Bull Racing  Milton Keynes, United Kingdom   \n",
       "\n",
       "         Team Chief Technical Chief Chassis  Power Unit  First Team Entry  \\\n",
       "0  Christain Horner    Pierre Waché    RB19  Honda RBPT              1997   \n",
       "\n",
       "   World Championships Highest Race Finish  Pole Positions  Fastest Laps  \n",
       "0                    6             1(x113)              95            95  "
      ]
     },
     "execution_count": 76,
     "metadata": {},
     "output_type": "execute_result"
    }
   ],
   "source": [
    "teams2023_df.head(1)"
   ]
  },
  {
   "cell_type": "code",
   "execution_count": 77,
   "id": "6a7e9b3f",
   "metadata": {},
   "outputs": [
    {
     "data": {
      "text/plain": [
       "Index(['Team', 'Full Team Name', 'Base', 'Team Chief', 'Technical Chief',\n",
       "       'Chassis', 'Power Unit', 'First Team Entry', 'World Championships',\n",
       "       'Highest Race Finish', 'Pole Positions', 'Fastest Laps'],\n",
       "      dtype='object')"
      ]
     },
     "execution_count": 77,
     "metadata": {},
     "output_type": "execute_result"
    }
   ],
   "source": [
    "teams2023_df.columns"
   ]
  },
  {
   "cell_type": "code",
   "execution_count": 78,
   "id": "bf61a2e1",
   "metadata": {},
   "outputs": [
    {
     "data": {
      "text/plain": [
       "array(['Red Bull Racing', 'Mercedes', 'Ferrari', 'McLaren',\n",
       "       'Aston Martin', 'Alpine', 'Williams', 'AlphaTauri', 'Alfa Romeo',\n",
       "       'Haas F1 Team'], dtype=object)"
      ]
     },
     "execution_count": 78,
     "metadata": {},
     "output_type": "execute_result"
    }
   ],
   "source": [
    "teams2023_df['Team'].unique()"
   ]
  },
  {
   "cell_type": "code",
   "execution_count": 79,
   "id": "63c1b273",
   "metadata": {},
   "outputs": [
    {
     "data": {
      "text/html": [
       "<div>\n",
       "<style scoped>\n",
       "    .dataframe tbody tr th:only-of-type {\n",
       "        vertical-align: middle;\n",
       "    }\n",
       "\n",
       "    .dataframe tbody tr th {\n",
       "        vertical-align: top;\n",
       "    }\n",
       "\n",
       "    .dataframe thead th {\n",
       "        text-align: right;\n",
       "    }\n",
       "</style>\n",
       "<table border=\"1\" class=\"dataframe\">\n",
       "  <thead>\n",
       "    <tr style=\"text-align: right;\">\n",
       "      <th></th>\n",
       "      <th>Team</th>\n",
       "      <th>Full Team Name</th>\n",
       "      <th>Base</th>\n",
       "      <th>Team Chief</th>\n",
       "      <th>Technical Chief</th>\n",
       "      <th>Chassis</th>\n",
       "      <th>Power Unit</th>\n",
       "      <th>First Team Entry</th>\n",
       "      <th>World Championships</th>\n",
       "      <th>Highest Race Finish</th>\n",
       "      <th>Pole Positions</th>\n",
       "      <th>Fastest Laps</th>\n",
       "    </tr>\n",
       "  </thead>\n",
       "  <tbody>\n",
       "    <tr>\n",
       "      <th>0</th>\n",
       "      <td>Red Bull Racing RBPT</td>\n",
       "      <td>Oracle Red Bull Racing</td>\n",
       "      <td>Milton Keynes, United Kingdom</td>\n",
       "      <td>Christain Horner</td>\n",
       "      <td>Pierre Waché</td>\n",
       "      <td>RB19</td>\n",
       "      <td>Honda RBPT</td>\n",
       "      <td>1997</td>\n",
       "      <td>6</td>\n",
       "      <td>1(x113)</td>\n",
       "      <td>95</td>\n",
       "      <td>95</td>\n",
       "    </tr>\n",
       "  </tbody>\n",
       "</table>\n",
       "</div>"
      ],
      "text/plain": [
       "                   Team          Full Team Name  \\\n",
       "0  Red Bull Racing RBPT  Oracle Red Bull Racing   \n",
       "\n",
       "                            Base        Team Chief Technical Chief Chassis  \\\n",
       "0  Milton Keynes, United Kingdom  Christain Horner    Pierre Waché    RB19   \n",
       "\n",
       "   Power Unit  First Team Entry  World Championships Highest Race Finish  \\\n",
       "0  Honda RBPT              1997                    6             1(x113)   \n",
       "\n",
       "   Pole Positions  Fastest Laps  \n",
       "0              95            95  "
      ]
     },
     "execution_count": 79,
     "metadata": {},
     "output_type": "execute_result"
    }
   ],
   "source": [
    "# Example dictionary mapping original team names to desired names\n",
    "team_name_mapping_2023 = {\n",
    "    'Red Bull Racing': 'Red Bull Racing RBPT',\n",
    "    'Ferrari': 'Ferrari',\n",
    "    'Mercedes': 'Mercedes',\n",
    "    'Alpine': 'Alpine Renault',\n",
    "    'McLaren': 'McLaren Mercedes',\n",
    "    'Alfa Romeo': 'Alfa Romeo Ferrari',\n",
    "    'Aston Martin': 'Aston Martin Aramco Mercedes',\n",
    "    'Haas F1 Team': 'Haas Ferrari',\n",
    "    'AlphaTauri': 'AlphaTauri RBPT',\n",
    "    'Williams': 'Williams Mercedes'\n",
    "}\n",
    "\n",
    "# Apply the mapping to create a new 'Team Name' column\n",
    "teams2023_df['Team'] = teams2023_df['Team'].map(team_name_mapping_2023)\n",
    "teams2023_df.head(1)"
   ]
  },
  {
   "cell_type": "code",
   "execution_count": 80,
   "id": "cf60ac0a",
   "metadata": {},
   "outputs": [
    {
     "data": {
      "text/html": [
       "<div>\n",
       "<style scoped>\n",
       "    .dataframe tbody tr th:only-of-type {\n",
       "        vertical-align: middle;\n",
       "    }\n",
       "\n",
       "    .dataframe tbody tr th {\n",
       "        vertical-align: top;\n",
       "    }\n",
       "\n",
       "    .dataframe thead th {\n",
       "        text-align: right;\n",
       "    }\n",
       "</style>\n",
       "<table border=\"1\" class=\"dataframe\">\n",
       "  <thead>\n",
       "    <tr style=\"text-align: right;\">\n",
       "      <th></th>\n",
       "      <th>Team</th>\n",
       "      <th>First Team Entry</th>\n",
       "      <th>World Championships</th>\n",
       "      <th>Highest Race Finish</th>\n",
       "      <th>Pole Positions</th>\n",
       "      <th>Fastest Laps</th>\n",
       "      <th>Nº of Highest Race Finish</th>\n",
       "    </tr>\n",
       "  </thead>\n",
       "  <tbody>\n",
       "    <tr>\n",
       "      <th>0</th>\n",
       "      <td>Red Bull Racing RBPT</td>\n",
       "      <td>1997</td>\n",
       "      <td>6</td>\n",
       "      <td>1</td>\n",
       "      <td>95</td>\n",
       "      <td>95</td>\n",
       "      <td>113</td>\n",
       "    </tr>\n",
       "  </tbody>\n",
       "</table>\n",
       "</div>"
      ],
      "text/plain": [
       "                   Team  First Team Entry  World Championships  \\\n",
       "0  Red Bull Racing RBPT              1997                    6   \n",
       "\n",
       "   Highest Race Finish  Pole Positions  Fastest Laps  \\\n",
       "0                    1              95            95   \n",
       "\n",
       "   Nº of Highest Race Finish  \n",
       "0                        113  "
      ]
     },
     "execution_count": 80,
     "metadata": {},
     "output_type": "execute_result"
    }
   ],
   "source": [
    "# Dropping the specified columns\n",
    "columns_to_drop = ['Full Team Name', 'Base', 'Team Chief', 'Technical Chief','Chassis','Power Unit']\n",
    "teams2023_df = teams2023_df.drop(columns=columns_to_drop)\n",
    "\n",
    "# Splitting the 'Highest Race Finish' column\n",
    "teams2023_df[['Highest Race Finish', 'Nº of Highest Race Finish']] = teams2023_df['Highest Race Finish'].str.extract(r'(\\d+)\\(x(\\d+)\\)')\n",
    "# Convert the new columns to integer type\n",
    "teams2023_df['Highest Race Finish'] = teams2023_df['Highest Race Finish'].astype(int)\n",
    "teams2023_df['Nº of Highest Race Finish'] = teams2023_df['Nº of Highest Race Finish'].astype(int)\n",
    "\n",
    "teams2023_df.head(1)"
   ]
  },
  {
   "cell_type": "code",
   "execution_count": 81,
   "id": "2f6dd198",
   "metadata": {},
   "outputs": [
    {
     "data": {
      "text/html": [
       "<div>\n",
       "<style scoped>\n",
       "    .dataframe tbody tr th:only-of-type {\n",
       "        vertical-align: middle;\n",
       "    }\n",
       "\n",
       "    .dataframe tbody tr th {\n",
       "        vertical-align: top;\n",
       "    }\n",
       "\n",
       "    .dataframe thead th {\n",
       "        text-align: right;\n",
       "    }\n",
       "</style>\n",
       "<table border=\"1\" class=\"dataframe\">\n",
       "  <thead>\n",
       "    <tr style=\"text-align: right;\">\n",
       "      <th></th>\n",
       "      <th>Team Name</th>\n",
       "      <th>Team First Entry</th>\n",
       "      <th>Team Nº World Championships</th>\n",
       "      <th>Team Highest Race Finish</th>\n",
       "      <th>Team Nº Pole Positions</th>\n",
       "      <th>Team Nº Fastest Laps</th>\n",
       "      <th>Team Nº of Highest Race Finish</th>\n",
       "    </tr>\n",
       "  </thead>\n",
       "  <tbody>\n",
       "    <tr>\n",
       "      <th>0</th>\n",
       "      <td>Red Bull Racing RBPT</td>\n",
       "      <td>1997</td>\n",
       "      <td>6</td>\n",
       "      <td>1</td>\n",
       "      <td>95</td>\n",
       "      <td>95</td>\n",
       "      <td>113</td>\n",
       "    </tr>\n",
       "  </tbody>\n",
       "</table>\n",
       "</div>"
      ],
      "text/plain": [
       "              Team Name  Team First Entry  Team Nº World Championships  \\\n",
       "0  Red Bull Racing RBPT              1997                            6   \n",
       "\n",
       "   Team Highest Race Finish  Team Nº Pole Positions  Team Nº Fastest Laps  \\\n",
       "0                         1                      95                    95   \n",
       "\n",
       "   Team Nº of Highest Race Finish  \n",
       "0                             113  "
      ]
     },
     "execution_count": 81,
     "metadata": {},
     "output_type": "execute_result"
    }
   ],
   "source": [
    "# Dictionary mapping old names to new names\n",
    "new_column_names_2023 = {\n",
    "    'First Team Entry': 'Team First Entry',\n",
    "    'World Championships': 'Team Nº World Championships',\n",
    "    'Highest Race Finish': 'Team Highest Race Finish',\n",
    "    'Pole Positions': 'Team Nº Pole Positions',\n",
    "    'Fastest Laps': 'Team Nº Fastest Laps',\n",
    "    'Nº of Highest Race Finish': 'Team Nº of Highest Race Finish', 'Team':'Team Name'\n",
    "}\n",
    "\n",
    "# Rename the columns using rename() method\n",
    "teams2023_df = teams2023_df.rename(columns=new_column_names_2023)\n",
    "teams2023_df.head(1)"
   ]
  },
  {
   "cell_type": "code",
   "execution_count": 82,
   "id": "10719590",
   "metadata": {},
   "outputs": [
    {
     "data": {
      "text/plain": [
       "array(['Red Bull Racing RBPT', 'Mercedes', 'Ferrari', 'McLaren Mercedes',\n",
       "       'Aston Martin Aramco Mercedes', 'Alpine Renault',\n",
       "       'Williams Mercedes', 'AlphaTauri RBPT', 'Alfa Romeo Ferrari',\n",
       "       'Haas Ferrari'], dtype=object)"
      ]
     },
     "execution_count": 82,
     "metadata": {},
     "output_type": "execute_result"
    }
   ],
   "source": [
    "teams2023_df['Team Name'].unique()"
   ]
  },
  {
   "cell_type": "code",
   "execution_count": 83,
   "id": "93c02a27",
   "metadata": {},
   "outputs": [
    {
     "data": {
      "text/plain": [
       "array(['Red Bull Racing Honda RBPT', 'Aston Martin Aramco Mercedes',\n",
       "       'Ferrari', 'Mercedes', 'Alfa Romeo Ferrari', 'Alpine Renault',\n",
       "       'Williams Mercedes', 'AlphaTauri Honda RBPT', 'Haas Ferrari',\n",
       "       'McLaren Mercedes'], dtype=object)"
      ]
     },
     "execution_count": 83,
     "metadata": {},
     "output_type": "execute_result"
    }
   ],
   "source": [
    "race_results2023_df['Team'].unique()"
   ]
  },
  {
   "cell_type": "code",
   "execution_count": 84,
   "id": "22df7d91",
   "metadata": {},
   "outputs": [],
   "source": [
    "# Mapping dictionary\n",
    "team_mapping = {\n",
    "    'Red Bull Racing RBPT': 'Red Bull Racing Honda RBPT',\n",
    "    'Mercedes': 'Aston Martin Aramco Mercedes',\n",
    "    'Ferrari': 'Ferrari',\n",
    "    'McLaren Mercedes': 'McLaren Mercedes',\n",
    "    'Aston Martin Aramco Mercedes': 'Aston Martin Aramco Mercedes',\n",
    "    'Alpine Renault': 'Alpine Renault',\n",
    "    'Williams Mercedes': 'Williams Mercedes',\n",
    "    'AlphaTauri RBPT': 'AlphaTauri Honda RBPT',\n",
    "    'Alfa Romeo Ferrari': 'Alfa Romeo Ferrari',\n",
    "    'Haas Ferrari': 'Haas Ferrari'\n",
    "}\n",
    "\n",
    "# Applying the mapping to ensure consistency in track names\n",
    "teams2023_df['Team Name'] = teams2023_df['Team Name'].replace(team_mapping)"
   ]
  },
  {
   "cell_type": "code",
   "execution_count": 85,
   "id": "cef238ff",
   "metadata": {},
   "outputs": [
    {
     "data": {
      "text/plain": [
       "(10, 7)"
      ]
     },
     "execution_count": 85,
     "metadata": {},
     "output_type": "execute_result"
    }
   ],
   "source": [
    "teams2023_df.shape"
   ]
  },
  {
   "cell_type": "markdown",
   "id": "13eeea56",
   "metadata": {},
   "source": [
    "# ------------------------------------------------------------------------------------"
   ]
  },
  {
   "cell_type": "markdown",
   "id": "d420f2e8",
   "metadata": {},
   "source": [
    "4.6.F1 Insights Pro Ranking Modifications"
   ]
  },
  {
   "cell_type": "code",
   "execution_count": 86,
   "id": "1e5a6850",
   "metadata": {},
   "outputs": [
    {
     "data": {
      "text/plain": [
       "Index(['Driver', 'Team', 'Track', 'TrackTurns', 'TrackDRSZones',\n",
       "       'ElevationChange', 'AvgTrackTemp', 'AvgAirTemp', 'AvgHumidity',\n",
       "       'AvgWindSpeed', 'RainProbability', 'StartPosition', 'FinishPosition',\n",
       "       'PointsScored', 'FastestLapFlag', 'OverallFastestLap', 'FastestLapTime',\n",
       "       'FastestLapGap', 'FastestLapSpeed', 'Overtakes', 'TotalOvertakes',\n",
       "       'Penalties', 'TotalPenalties', 'TrackComplexity', 'WeatherConditions',\n",
       "       'PenaltyScore', 'DriverPerformanceScore', 'Score', 'Rank'],\n",
       "      dtype='object')"
      ]
     },
     "execution_count": 86,
     "metadata": {},
     "output_type": "execute_result"
    }
   ],
   "source": [
    "F1_Insights_Pro_ranking_2023_df.columns"
   ]
  },
  {
   "cell_type": "code",
   "execution_count": 87,
   "id": "fd9b5166",
   "metadata": {},
   "outputs": [
    {
     "data": {
      "text/plain": [
       "(460, 29)"
      ]
     },
     "execution_count": 87,
     "metadata": {},
     "output_type": "execute_result"
    }
   ],
   "source": [
    "F1_Insights_Pro_ranking_2023_df.shape"
   ]
  },
  {
   "cell_type": "code",
   "execution_count": 88,
   "id": "0d703a74",
   "metadata": {},
   "outputs": [
    {
     "data": {
      "text/plain": [
       "array(['Bahrain', 'Saudi Arabia', 'Australia', 'Azerbaijan', 'Miami',\n",
       "       'Emilia Romagna', 'Monaco', 'Spain', 'Canada', 'Austria',\n",
       "       'Great Britain', 'Hungary', 'Belgium', 'Netherlands', 'Italy',\n",
       "       'Singapore', 'Japan', 'Qatar', 'United States', 'Mexico', 'Brazil',\n",
       "       'Las Vegas', 'Abu Dhabi'], dtype=object)"
      ]
     },
     "execution_count": 88,
     "metadata": {},
     "output_type": "execute_result"
    }
   ],
   "source": [
    "F1_Insights_Pro_ranking_2023_df['Track'].unique()"
   ]
  },
  {
   "cell_type": "code",
   "execution_count": 89,
   "id": "b12f9d3f",
   "metadata": {},
   "outputs": [
    {
     "data": {
      "text/plain": [
       "array(['Bahrain International Circuit', 'Jeddah Corniche Circuit',\n",
       "       'Melbourne Grand Prix Circuit', 'Baku City Circuit',\n",
       "       'Miami International Autodrome', 'Circuit de Monaco',\n",
       "       'Circuit de Barcelona-Catalunya', 'Circuit Gilles-Villeneuve',\n",
       "       'Red Bull Ring', 'Silverstone Circuit', 'Hungaroring',\n",
       "       'Circuit de Spa-Francorchamps', 'Circuit Zandvoort',\n",
       "       'Autodromo Nazionale Monza', 'Marina Bay Street Circuit',\n",
       "       'Suzuka International Racing Course',\n",
       "       'Lusail International Circuit', 'Circuit of The Americas',\n",
       "       'Autodromo Hermanos Rodriguez', 'Autodromo Jose Carlos Pace',\n",
       "       'Las Vegas Strip Circuit', 'Yas Marina Circuit'], dtype=object)"
      ]
     },
     "execution_count": 89,
     "metadata": {},
     "output_type": "execute_result"
    }
   ],
   "source": [
    "calendar2023_df['Circuit Name'].unique()"
   ]
  },
  {
   "cell_type": "code",
   "execution_count": 90,
   "id": "e655f347",
   "metadata": {},
   "outputs": [
    {
     "data": {
      "text/plain": [
       "array(['Bahrain International Circuit', 'Jeddah Corniche Circuit',\n",
       "       'Melbourne Grand Prix Circuit', 'Baku City Circuit',\n",
       "       'Miami International Autodrome', 'Autodromo Enzo e Dino Ferrari',\n",
       "       'Circuit de Monaco', 'Circuit de Barcelona-Catalunya',\n",
       "       'Circuit Gilles-Villeneuve', 'Red Bull Ring',\n",
       "       'Silverstone Circuit', 'Hungaroring',\n",
       "       'Circuit de Spa-Francorchamps', 'Circuit Zandvoort',\n",
       "       'Autodromo Nazionale Monza', 'Marina Bay Street Circuit',\n",
       "       'Suzuka International Racing Course',\n",
       "       'Lusail International Circuit', 'Circuit of The Americas',\n",
       "       'Autodromo Hermanos Rodriguez', 'Autodromo Jose Carlos Pace',\n",
       "       'Las Vegas Strip Circuit', 'Yas Marina Circuit'], dtype=object)"
      ]
     },
     "execution_count": 90,
     "metadata": {},
     "output_type": "execute_result"
    }
   ],
   "source": [
    "track_qualy_mapping_F1_Insights_Pro = {\n",
    "    'Bahrain': 'Bahrain International Circuit',\n",
    "    'Saudi Arabia': 'Jeddah Corniche Circuit',\n",
    "    'Australia': 'Melbourne Grand Prix Circuit',\n",
    "    'Emilia Romagna': 'Autodromo Enzo e Dino Ferrari',\n",
    "    'Miami': 'Miami International Autodrome',\n",
    "    'Spain': 'Circuit de Barcelona-Catalunya',\n",
    "    'Monaco': 'Circuit de Monaco',\n",
    "    'Azerbaijan': 'Baku City Circuit',\n",
    "    'Canada': 'Circuit Gilles-Villeneuve',\n",
    "    'Great Britain': 'Silverstone Circuit',\n",
    "    'Austria': 'Red Bull Ring',\n",
    "    'France': 'Circuit Paul Ricard',\n",
    "    'Hungary': 'Hungaroring',\n",
    "    'Belgium': 'Circuit de Spa-Francorchamps',\n",
    "    'Netherlands': 'Circuit Zandvoort',\n",
    "    'Italy': 'Autodromo Nazionale Monza',\n",
    "    'Singapore': 'Marina Bay Street Circuit',\n",
    "    'Japan': 'Suzuka International Racing Course',\n",
    "    'United States': 'Circuit of The Americas',\n",
    "    'Mexico': 'Autodromo Hermanos Rodriguez',\n",
    "    'Brazil': 'Autodromo Jose Carlos Pace',\n",
    "    'Abu Dhabi': 'Yas Marina Circuit',\n",
    "    'Qatar': 'Lusail International Circuit',\n",
    "    'Las Vegas': 'Las Vegas Strip Circuit'\n",
    "}\n",
    "\n",
    "# Applying the mapping to ensure consistency in track names\n",
    "F1_Insights_Pro_ranking_2023_df['Track'] = F1_Insights_Pro_ranking_2023_df['Track'].replace(track_qualy_mapping_F1_Insights_Pro)\n",
    "F1_Insights_Pro_ranking_2023_df['Track'].unique()"
   ]
  },
  {
   "cell_type": "code",
   "execution_count": 91,
   "id": "edda8d51",
   "metadata": {},
   "outputs": [],
   "source": [
    "# Updated dictionaries\n",
    "track_to_country = {\n",
    "    'Bahrain International Circuit': 'Bahrain',\n",
    "    'Jeddah Corniche Circuit': 'Saudi Arabia',\n",
    "    'Albert Park Circuit': 'Australia',\n",
    "    'Autodromo Enzo e Dino Ferrari': 'Italy',\n",
    "    'Miami International Autodrome': 'United States',\n",
    "    'Circuit de Barcelona-Catalunya': 'Spain',\n",
    "    'Circuit de Monaco': 'Monaco',\n",
    "    'Baku City Circuit': 'Azerbaijan',\n",
    "    'Circuit Gilles-Villeneuve': 'Canada',\n",
    "    'Silverstone Circuit': 'United Kingdom',\n",
    "    'Red Bull Ring': 'Austria',\n",
    "    'Circuit Paul Ricard': 'France',\n",
    "    'Hungaroring': 'Hungary',\n",
    "    'Circuit de Spa-Francorchamps': 'Belgium',\n",
    "    'Circuit Zandvoort': 'Netherlands',\n",
    "    'Autodromo Nazionale Monza': 'Italy',\n",
    "    'Marina Bay Street Circuit': 'Singapore',\n",
    "    'Suzuka International Racing Course': 'Japan',\n",
    "    'Circuit of the Americas': 'United States',\n",
    "    'Autodromo Hermanos Rodriguez': 'Mexico',\n",
    "    'Autodromo Jose Carlos Pace': 'Brazil',\n",
    "    'Yas Marina Circuit': 'United Arab Emirates',\n",
    "    'Lusail International Circuit': 'Qatar',  # Added new track\n",
    "    'Las Vegas Strip Circuit': 'United States'  # Added new track\n",
    "}\n",
    "\n",
    "track_to_city = {\n",
    "    'Bahrain International Circuit': 'Sakhir',\n",
    "    'Jeddah Corniche Circuit': 'Jeddah',\n",
    "    'Albert Park Circuit': 'Melbourne',\n",
    "    'Autodromo Enzo e Dino Ferrari': 'Imola',\n",
    "    'Miami International Autodrome': 'Miami',\n",
    "    'Circuit de Barcelona-Catalunya': 'Barcelona',\n",
    "    'Circuit de Monaco': 'Monte Carlo',\n",
    "    'Baku City Circuit': 'Baku',\n",
    "    'Circuit Gilles-Villeneuve': 'Montreal',\n",
    "    'Silverstone Circuit': 'Silverstone',\n",
    "    'Red Bull Ring': 'Spielberg',\n",
    "    'Circuit Paul Ricard': 'Le Castellet',\n",
    "    'Hungaroring': 'Mogyoród',\n",
    "    'Circuit de Spa-Francorchamps': 'Stavelot',\n",
    "    'Circuit Zandvoort': 'Zandvoort',\n",
    "    'Autodromo Nazionale Monza': 'Monza',\n",
    "    'Marina Bay Street Circuit': 'Singapore',\n",
    "    'Suzuka International Racing Course': 'Suzuka',\n",
    "    'Circuit of the Americas': 'Austin',\n",
    "    'Autodromo Hermanos Rodriguez': 'Mexico City',\n",
    "    'Autodromo Jose Carlos Pace': 'São Paulo',\n",
    "    'Yas Marina Circuit': 'Abu Dhabi',\n",
    "    'Lusail International Circuit': 'Lusail',  # Added new track\n",
    "    'Las Vegas Strip Circuit': 'Las Vegas'  # Added new track\n",
    "}\n",
    "\n",
    "# Applying the updated mappings to DataFrame\n",
    "F1_Insights_Pro_ranking_2023_df['Country'] = F1_Insights_Pro_ranking_2023_df['Track'].map(track_to_country)\n",
    "F1_Insights_Pro_ranking_2023_df['City'] = F1_Insights_Pro_ranking_2023_df['Track'].map(track_to_city)\n",
    "\n",
    "# Renaming the 'Track' column to 'Circuit Name'\n",
    "F1_Insights_Pro_ranking_2023_df.rename(columns={'Track': 'Circuit Name'}, inplace=True)"
   ]
  },
  {
   "cell_type": "code",
   "execution_count": 92,
   "id": "c6d27d44",
   "metadata": {},
   "outputs": [
    {
     "data": {
      "text/html": [
       "<div>\n",
       "<style scoped>\n",
       "    .dataframe tbody tr th:only-of-type {\n",
       "        vertical-align: middle;\n",
       "    }\n",
       "\n",
       "    .dataframe tbody tr th {\n",
       "        vertical-align: top;\n",
       "    }\n",
       "\n",
       "    .dataframe thead th {\n",
       "        text-align: right;\n",
       "    }\n",
       "</style>\n",
       "<table border=\"1\" class=\"dataframe\">\n",
       "  <thead>\n",
       "    <tr style=\"text-align: right;\">\n",
       "      <th></th>\n",
       "      <th>Driver</th>\n",
       "      <th>Team</th>\n",
       "      <th>Circuit Name</th>\n",
       "      <th>TrackTurns</th>\n",
       "      <th>TrackDRSZones</th>\n",
       "      <th>ElevationChange</th>\n",
       "      <th>AvgTrackTemp</th>\n",
       "      <th>AvgAirTemp</th>\n",
       "      <th>AvgHumidity</th>\n",
       "      <th>AvgWindSpeed</th>\n",
       "      <th>...</th>\n",
       "      <th>TrackComplexity</th>\n",
       "      <th>WeatherConditions</th>\n",
       "      <th>PenaltyScore</th>\n",
       "      <th>DriverPerformanceScore</th>\n",
       "      <th>Score</th>\n",
       "      <th>Rank</th>\n",
       "      <th>Country</th>\n",
       "      <th>City</th>\n",
       "      <th>Year</th>\n",
       "      <th>Circuit_Driver</th>\n",
       "    </tr>\n",
       "  </thead>\n",
       "  <tbody>\n",
       "    <tr>\n",
       "      <th>0</th>\n",
       "      <td>Max Verstappen</td>\n",
       "      <td>Red Bull Racing</td>\n",
       "      <td>Bahrain International Circuit</td>\n",
       "      <td>15</td>\n",
       "      <td>3</td>\n",
       "      <td>3.5</td>\n",
       "      <td>31.011801</td>\n",
       "      <td>27.431677</td>\n",
       "      <td>21.496894</td>\n",
       "      <td>0.68323</td>\n",
       "      <td>...</td>\n",
       "      <td>0.065</td>\n",
       "      <td>0.032653</td>\n",
       "      <td>0</td>\n",
       "      <td>9.213433</td>\n",
       "      <td>9.311086</td>\n",
       "      <td>1</td>\n",
       "      <td>Bahrain</td>\n",
       "      <td>Sakhir</td>\n",
       "      <td>2022</td>\n",
       "      <td>2022_Sakhir_Max Verstappen</td>\n",
       "    </tr>\n",
       "  </tbody>\n",
       "</table>\n",
       "<p>1 rows × 33 columns</p>\n",
       "</div>"
      ],
      "text/plain": [
       "           Driver             Team                   Circuit Name  TrackTurns  \\\n",
       "0  Max Verstappen  Red Bull Racing  Bahrain International Circuit          15   \n",
       "\n",
       "   TrackDRSZones  ElevationChange  AvgTrackTemp  AvgAirTemp  AvgHumidity  \\\n",
       "0              3              3.5     31.011801   27.431677    21.496894   \n",
       "\n",
       "   AvgWindSpeed  ...  TrackComplexity  WeatherConditions  PenaltyScore  \\\n",
       "0       0.68323  ...            0.065           0.032653             0   \n",
       "\n",
       "   DriverPerformanceScore     Score  Rank  Country    City  Year  \\\n",
       "0                9.213433  9.311086     1  Bahrain  Sakhir  2022   \n",
       "\n",
       "               Circuit_Driver  \n",
       "0  2022_Sakhir_Max Verstappen  \n",
       "\n",
       "[1 rows x 33 columns]"
      ]
     },
     "execution_count": 92,
     "metadata": {},
     "output_type": "execute_result"
    }
   ],
   "source": [
    "# Add a new column 'Year' with the value 2022 for all rows\n",
    "F1_Insights_Pro_ranking_2023_df['Year'] = 2022\n",
    "\n",
    "# Calculate the key column based on Year, City, and Driver\n",
    "F1_Insights_Pro_ranking_2023_df['Circuit_Driver'] = F1_Insights_Pro_ranking_2023_df['Year'].astype(str) + '_' + F1_Insights_Pro_ranking_2023_df['City'] + '_' + F1_Insights_Pro_ranking_2023_df['Driver']\n",
    "F1_Insights_Pro_ranking_2023_df.head(1)"
   ]
  },
  {
   "cell_type": "markdown",
   "id": "afb8f5ef",
   "metadata": {},
   "source": [
    "# ------------------------------------------------------------------------------------"
   ]
  },
  {
   "cell_type": "markdown",
   "id": "592c7ba1",
   "metadata": {},
   "source": [
    "# 5. 2023 Merging Datasets"
   ]
  },
  {
   "cell_type": "markdown",
   "id": "196f9969",
   "metadata": {},
   "source": [
    "5.1. Merging Race Results File + Qualifying Results File "
   ]
  },
  {
   "cell_type": "code",
   "execution_count": 93,
   "id": "9b702a8d",
   "metadata": {},
   "outputs": [
    {
     "data": {
      "text/plain": [
       "Index(['Year_x', 'Country_x', 'City_x', 'Circuit Name_x', 'Race Position',\n",
       "       'No_x', 'Driver_x', 'Team_x', 'Race Starting Grid', 'Race Laps',\n",
       "       'Race Time/Retired', 'Race Points', 'Race Fastest Lap',\n",
       "       'Circuit_Driver', 'Circuit Name_y', 'Qualifying Position', 'No_y',\n",
       "       'Driver_y', 'Team_y', 'Q1', 'Q2', 'Q3', 'Qualifying Laps', 'Country_y',\n",
       "       'City_y', 'Year_y'],\n",
       "      dtype='object')"
      ]
     },
     "execution_count": 93,
     "metadata": {},
     "output_type": "execute_result"
    }
   ],
   "source": [
    "# Merging the dataframes on 'Circuit_Driver'\n",
    "\n",
    "race_and_qualy_2023_df = pd.merge(race_results2023_df, qualifying_results2023_df, on='Circuit_Driver')\n",
    "race_and_qualy_2023_df.columns"
   ]
  },
  {
   "cell_type": "code",
   "execution_count": 94,
   "id": "f68e2133",
   "metadata": {},
   "outputs": [
    {
     "data": {
      "text/plain": [
       "(440, 19)"
      ]
     },
     "execution_count": 94,
     "metadata": {},
     "output_type": "execute_result"
    }
   ],
   "source": [
    "# Dropping the specified columns\n",
    "columns_to_drop = ['Country_y', 'City_y', 'Year_y', 'Team_y', 'Driver_y', 'No_y','Circuit Name_y']\n",
    "race_and_qualy_2023_df = race_and_qualy_2023_df.drop(columns=columns_to_drop)\n",
    "race_and_qualy_2023_df.shape"
   ]
  },
  {
   "cell_type": "code",
   "execution_count": 95,
   "id": "1cad9b48",
   "metadata": {},
   "outputs": [
    {
     "data": {
      "text/plain": [
       "Index(['Year', 'Country', 'City', 'Circuit Name', 'Race Position', 'No',\n",
       "       'Driver', 'Team', 'Race Starting Grid', 'Race Laps',\n",
       "       'Race Time/Retired', 'Race Points', 'Race Fastest Lap',\n",
       "       'Circuit_Driver', 'Qualifying Position', 'Q1', 'Q2', 'Q3',\n",
       "       'Qualifying Laps'],\n",
       "      dtype='object')"
      ]
     },
     "execution_count": 95,
     "metadata": {},
     "output_type": "execute_result"
    }
   ],
   "source": [
    "# Renaming columns to remove '_x' suffix\n",
    "race_and_qualy_2023_df.rename(columns={\n",
    "    'Year_x': 'Year',\n",
    "    'Country_x': 'Country',\n",
    "    'City_x': 'City',\n",
    "    'Circuit Name_x': 'Circuit Name',\n",
    "    'Race Position': 'Race Position',\n",
    "    'No_x': 'No',\n",
    "    'Driver_x': 'Driver',\n",
    "    'Team_x': 'Team'\n",
    "}, inplace=True)\n",
    "\n",
    "race_and_qualy_2023_df.columns"
   ]
  },
  {
   "cell_type": "markdown",
   "id": "6ab5e7b4",
   "metadata": {},
   "source": [
    "# ------------------------------------------------------------------------------------"
   ]
  },
  {
   "cell_type": "markdown",
   "id": "05173c5c",
   "metadata": {},
   "source": [
    "5.2. Merging Existing File + Drivers File "
   ]
  },
  {
   "cell_type": "code",
   "execution_count": 96,
   "id": "8263fe8f",
   "metadata": {},
   "outputs": [
    {
     "data": {
      "text/html": [
       "<div>\n",
       "<style scoped>\n",
       "    .dataframe tbody tr th:only-of-type {\n",
       "        vertical-align: middle;\n",
       "    }\n",
       "\n",
       "    .dataframe tbody tr th {\n",
       "        vertical-align: top;\n",
       "    }\n",
       "\n",
       "    .dataframe thead th {\n",
       "        text-align: right;\n",
       "    }\n",
       "</style>\n",
       "<table border=\"1\" class=\"dataframe\">\n",
       "  <thead>\n",
       "    <tr style=\"text-align: right;\">\n",
       "      <th></th>\n",
       "      <th>Year</th>\n",
       "      <th>Country_x</th>\n",
       "      <th>City</th>\n",
       "      <th>Circuit Name</th>\n",
       "      <th>Race Position</th>\n",
       "      <th>No_x</th>\n",
       "      <th>Driver</th>\n",
       "      <th>Team_x</th>\n",
       "      <th>Race Starting Grid</th>\n",
       "      <th>Race Laps</th>\n",
       "      <th>...</th>\n",
       "      <th>Country_y</th>\n",
       "      <th>Podiums</th>\n",
       "      <th>Points</th>\n",
       "      <th>Grands Prix Entered</th>\n",
       "      <th>World Championships</th>\n",
       "      <th>Highest Race Finish</th>\n",
       "      <th>Highest Grid Position</th>\n",
       "      <th>Date of Birth</th>\n",
       "      <th>Place of Birth</th>\n",
       "      <th>Nº of Highest Race Finish</th>\n",
       "    </tr>\n",
       "  </thead>\n",
       "  <tbody>\n",
       "    <tr>\n",
       "      <th>0</th>\n",
       "      <td>2023</td>\n",
       "      <td>Bahrain</td>\n",
       "      <td>Sakhir</td>\n",
       "      <td>Bahrain International Circuit</td>\n",
       "      <td>1</td>\n",
       "      <td>1</td>\n",
       "      <td>Max Verstappen</td>\n",
       "      <td>Red Bull Racing Honda RBPT</td>\n",
       "      <td>1</td>\n",
       "      <td>57</td>\n",
       "      <td>...</td>\n",
       "      <td>Netherlands</td>\n",
       "      <td>98</td>\n",
       "      <td>2586.5</td>\n",
       "      <td>185</td>\n",
       "      <td>3</td>\n",
       "      <td>1</td>\n",
       "      <td>1</td>\n",
       "      <td>30/09/1997</td>\n",
       "      <td>Hasselt, Belgium</td>\n",
       "      <td>54</td>\n",
       "    </tr>\n",
       "  </tbody>\n",
       "</table>\n",
       "<p>1 rows × 32 columns</p>\n",
       "</div>"
      ],
      "text/plain": [
       "   Year Country_x    City                   Circuit Name Race Position  No_x  \\\n",
       "0  2023   Bahrain  Sakhir  Bahrain International Circuit             1     1   \n",
       "\n",
       "           Driver                      Team_x  Race Starting Grid  Race Laps  \\\n",
       "0  Max Verstappen  Red Bull Racing Honda RBPT                   1         57   \n",
       "\n",
       "   ...    Country_y  Podiums  Points Grands Prix Entered World Championships  \\\n",
       "0  ...  Netherlands       98  2586.5                 185                   3   \n",
       "\n",
       "  Highest Race Finish Highest Grid Position Date of Birth    Place of Birth  \\\n",
       "0                   1                     1    30/09/1997  Hasselt, Belgium   \n",
       "\n",
       "  Nº of Highest Race Finish  \n",
       "0                        54  \n",
       "\n",
       "[1 rows x 32 columns]"
      ]
     },
     "execution_count": 96,
     "metadata": {},
     "output_type": "execute_result"
    }
   ],
   "source": [
    "# Merging the dataframes on 'Circuit_Driver'\n",
    "race_and_qualy_and_drivers_2023_df = pd.merge(race_and_qualy_2023_df, drivers2023_df, on='Driver')\n",
    "race_and_qualy_and_drivers_2023_df.head(1)"
   ]
  },
  {
   "cell_type": "code",
   "execution_count": 97,
   "id": "037cc47d",
   "metadata": {},
   "outputs": [
    {
     "data": {
      "text/plain": [
       "(440, 32)"
      ]
     },
     "execution_count": 97,
     "metadata": {},
     "output_type": "execute_result"
    }
   ],
   "source": [
    "race_and_qualy_and_drivers_2023_df.shape"
   ]
  },
  {
   "cell_type": "code",
   "execution_count": 98,
   "id": "72c2c316",
   "metadata": {},
   "outputs": [
    {
     "data": {
      "text/plain": [
       "(440, 29)"
      ]
     },
     "execution_count": 98,
     "metadata": {},
     "output_type": "execute_result"
    }
   ],
   "source": [
    "# Dropping the specified columns\n",
    "columns_to_drop = ['Country_y', 'Team_y', 'No_y']\n",
    "race_and_qualy_and_drivers_2023_df = race_and_qualy_and_drivers_2023_df.drop(columns=columns_to_drop)\n",
    "race_and_qualy_and_drivers_2023_df.shape"
   ]
  },
  {
   "cell_type": "code",
   "execution_count": 99,
   "id": "0f4028e7",
   "metadata": {},
   "outputs": [
    {
     "data": {
      "text/plain": [
       "Index(['Year', 'Country', 'City', 'Circuit Name', 'Race Position', 'No',\n",
       "       'Driver', 'Team', 'Race Starting Grid', 'Race Laps',\n",
       "       'Race Time/Retired', 'Race Points', 'Race Fastest Lap',\n",
       "       'Circuit_Driver', 'Qualifying Position', 'Q1', 'Q2', 'Q3',\n",
       "       'Qualifying Laps', 'Abbreviation', 'Podiums', 'Points',\n",
       "       'Grands Prix Entered', 'World Championships', 'Highest Race Finish',\n",
       "       'Highest Grid Position', 'Date of Birth', 'Place of Birth',\n",
       "       'Nº of Highest Race Finish'],\n",
       "      dtype='object')"
      ]
     },
     "execution_count": 99,
     "metadata": {},
     "output_type": "execute_result"
    }
   ],
   "source": [
    "# Renaming columns to match Set 1\n",
    "race_and_qualy_and_drivers_2023_df.rename(columns={\n",
    "    'Country_x': 'Country',\n",
    "    'No_x': 'No',\n",
    "    'Team_x': 'Team'\n",
    "}, inplace=True)\n",
    "race_and_qualy_and_drivers_2023_df.columns"
   ]
  },
  {
   "cell_type": "markdown",
   "id": "eca70a02",
   "metadata": {},
   "source": [
    "# ------------------------------------------------------------------------------------"
   ]
  },
  {
   "cell_type": "markdown",
   "id": "f7a67622",
   "metadata": {},
   "source": [
    "5.3. Merging Existing File + Team File"
   ]
  },
  {
   "cell_type": "code",
   "execution_count": 100,
   "id": "04c2a020",
   "metadata": {},
   "outputs": [
    {
     "data": {
      "text/plain": [
       "(10, 7)"
      ]
     },
     "execution_count": 100,
     "metadata": {},
     "output_type": "execute_result"
    }
   ],
   "source": [
    "teams2023_df.shape"
   ]
  },
  {
   "cell_type": "code",
   "execution_count": 101,
   "id": "d7e4051b",
   "metadata": {},
   "outputs": [
    {
     "data": {
      "text/plain": [
       "(440, 29)"
      ]
     },
     "execution_count": 101,
     "metadata": {},
     "output_type": "execute_result"
    }
   ],
   "source": [
    "race_and_qualy_and_drivers_2023_df.shape"
   ]
  },
  {
   "cell_type": "code",
   "execution_count": 102,
   "id": "ab4b36a0",
   "metadata": {},
   "outputs": [
    {
     "data": {
      "text/plain": [
       "(440, 35)"
      ]
     },
     "execution_count": 102,
     "metadata": {},
     "output_type": "execute_result"
    }
   ],
   "source": [
    "race_and_qualy_and_drivers_and_teams_2023_df = pd.merge(teams2023_df, race_and_qualy_and_drivers_2023_df, left_on='Team Name', right_on='Team')\n",
    "race_and_qualy_and_drivers_and_teams_2023_df.drop('Team Name', axis=1, inplace=True)\n",
    "race_and_qualy_and_drivers_and_teams_2023_df.shape"
   ]
  },
  {
   "cell_type": "markdown",
   "id": "8d60cc3f",
   "metadata": {},
   "source": [
    "# ------------------------------------------------------------------------------------"
   ]
  },
  {
   "cell_type": "markdown",
   "id": "3b5380eb",
   "metadata": {},
   "source": [
    "5.4. Merging Existing File + F1 Insights Pro"
   ]
  },
  {
   "cell_type": "code",
   "execution_count": 103,
   "id": "88a0d4da",
   "metadata": {},
   "outputs": [],
   "source": [
    "# Merging the dataframes on 'Circuit_Driver'\n",
    "race_and_qualy_and_drivers_and_teams_and_F1_Insigths_Pro_2023_df = pd.merge(race_and_qualy_and_drivers_and_teams_2023_df, F1_Insights_Pro_ranking_2023_df, on='Circuit_Driver', how='left')"
   ]
  },
  {
   "cell_type": "code",
   "execution_count": 104,
   "id": "6e51f9cd",
   "metadata": {},
   "outputs": [
    {
     "data": {
      "text/plain": [
       "(440, 67)"
      ]
     },
     "execution_count": 104,
     "metadata": {},
     "output_type": "execute_result"
    }
   ],
   "source": [
    "race_and_qualy_and_drivers_and_teams_and_F1_Insigths_Pro_2023_df.shape"
   ]
  },
  {
   "cell_type": "code",
   "execution_count": 105,
   "id": "7f028f6a",
   "metadata": {},
   "outputs": [
    {
     "data": {
      "text/plain": [
       "Index(['Team First Entry', 'Team Nº World Championships',\n",
       "       'Team Highest Race Finish', 'Team Nº Pole Positions',\n",
       "       'Team Nº Fastest Laps', 'Team Nº of Highest Race Finish', 'Year_x',\n",
       "       'Country_x', 'City_x', 'Circuit Name_x', 'Race Position', 'No',\n",
       "       'Driver_x', 'Team_x', 'Race Starting Grid', 'Race Laps',\n",
       "       'Race Time/Retired', 'Race Points', 'Race Fastest Lap',\n",
       "       'Circuit_Driver', 'Qualifying Position', 'Q1', 'Q2', 'Q3',\n",
       "       'Qualifying Laps', 'Abbreviation', 'Podiums', 'Points',\n",
       "       'Grands Prix Entered', 'World Championships', 'Highest Race Finish',\n",
       "       'Highest Grid Position', 'Date of Birth', 'Place of Birth',\n",
       "       'Nº of Highest Race Finish', 'Driver_y', 'Team_y', 'Circuit Name_y',\n",
       "       'TrackTurns', 'TrackDRSZones', 'ElevationChange', 'AvgTrackTemp',\n",
       "       'AvgAirTemp', 'AvgHumidity', 'AvgWindSpeed', 'RainProbability',\n",
       "       'StartPosition', 'FinishPosition', 'PointsScored', 'FastestLapFlag',\n",
       "       'OverallFastestLap', 'FastestLapTime', 'FastestLapGap',\n",
       "       'FastestLapSpeed', 'Overtakes', 'TotalOvertakes', 'Penalties',\n",
       "       'TotalPenalties', 'TrackComplexity', 'WeatherConditions',\n",
       "       'PenaltyScore', 'DriverPerformanceScore', 'Score', 'Rank', 'Country_y',\n",
       "       'City_y', 'Year_y'],\n",
       "      dtype='object')"
      ]
     },
     "execution_count": 105,
     "metadata": {},
     "output_type": "execute_result"
    }
   ],
   "source": [
    "race_and_qualy_and_drivers_and_teams_and_F1_Insigths_Pro_2023_df.columns"
   ]
  },
  {
   "cell_type": "code",
   "execution_count": 106,
   "id": "dcc2f552",
   "metadata": {},
   "outputs": [
    {
     "data": {
      "text/plain": [
       "Index(['Team First Entry', 'Team Nº World Championships',\n",
       "       'Team Highest Race Finish', 'Team Nº Pole Positions',\n",
       "       'Team Nº Fastest Laps', 'Team Nº of Highest Race Finish', 'Year_x',\n",
       "       'Country_x', 'City_x', 'Circuit Name_x', 'Race Position', 'No',\n",
       "       'Driver_x', 'Team_x', 'Race Starting Grid', 'Race Laps',\n",
       "       'Race Time/Retired', 'Race Points', 'Race Fastest Lap',\n",
       "       'Circuit_Driver', 'Qualifying Position', 'Q1', 'Q2', 'Q3',\n",
       "       'Qualifying Laps', 'Abbreviation', 'Podiums', 'Points',\n",
       "       'Grands Prix Entered', 'World Championships', 'Highest Race Finish',\n",
       "       'Highest Grid Position', 'Date of Birth', 'Place of Birth',\n",
       "       'Nº of Highest Race Finish', 'TrackTurns', 'TrackDRSZones',\n",
       "       'ElevationChange', 'AvgTrackTemp', 'AvgAirTemp', 'AvgHumidity',\n",
       "       'AvgWindSpeed', 'RainProbability', 'StartPosition', 'FinishPosition',\n",
       "       'PointsScored', 'FastestLapFlag', 'OverallFastestLap', 'FastestLapTime',\n",
       "       'FastestLapGap', 'FastestLapSpeed', 'Overtakes', 'TotalOvertakes',\n",
       "       'Penalties', 'TotalPenalties', 'TrackComplexity', 'WeatherConditions',\n",
       "       'PenaltyScore', 'DriverPerformanceScore', 'Score', 'Rank'],\n",
       "      dtype='object')"
      ]
     },
     "execution_count": 106,
     "metadata": {},
     "output_type": "execute_result"
    }
   ],
   "source": [
    "# Dropping the specified columns\n",
    "columns_to_drop = ['Country_y', 'City_y', 'Year_y', 'Team_y', 'Driver_y','Circuit Name_y']\n",
    "race_and_qualy_and_drivers_and_teams_and_F1_Insigths_Pro_2023_df = race_and_qualy_and_drivers_and_teams_and_F1_Insigths_Pro_2023_df.drop(columns=columns_to_drop)\n",
    "race_and_qualy_and_drivers_and_teams_and_F1_Insigths_Pro_2023_df.columns"
   ]
  },
  {
   "cell_type": "code",
   "execution_count": 107,
   "id": "4510ad43",
   "metadata": {},
   "outputs": [
    {
     "data": {
      "text/plain": [
       "Index(['Team First Entry', 'Team Nº World Championships',\n",
       "       'Team Highest Race Finish', 'Team Nº Pole Positions',\n",
       "       'Team Nº Fastest Laps', 'Team Nº of Highest Race Finish', 'Year',\n",
       "       'Country', 'City', 'Circuit Name', 'Race Position', 'No', 'Driver',\n",
       "       'Team', 'Race Starting Grid', 'Race Laps', 'Race Time/Retired',\n",
       "       'Race Points', 'Race Fastest Lap', 'Circuit_Driver',\n",
       "       'Qualifying Position', 'Q1', 'Q2', 'Q3', 'Qualifying Laps',\n",
       "       'Abbreviation', 'Podiums', 'Points', 'Grands Prix Entered',\n",
       "       'World Championships', 'Highest Race Finish', 'Highest Grid Position',\n",
       "       'Date of Birth', 'Place of Birth', 'Nº of Highest Race Finish',\n",
       "       'TrackTurns', 'TrackDRSZones', 'ElevationChange', 'AvgTrackTemp',\n",
       "       'AvgAirTemp', 'AvgHumidity', 'AvgWindSpeed', 'RainProbability',\n",
       "       'StartPosition', 'FinishPosition', 'PointsScored', 'FastestLapFlag',\n",
       "       'OverallFastestLap', 'FastestLapTime', 'FastestLapGap',\n",
       "       'FastestLapSpeed', 'Overtakes', 'TotalOvertakes', 'Penalties',\n",
       "       'TotalPenalties', 'TrackComplexity', 'WeatherConditions',\n",
       "       'PenaltyScore', 'DriverPerformanceScore', 'Score', 'Rank'],\n",
       "      dtype='object')"
      ]
     },
     "execution_count": 107,
     "metadata": {},
     "output_type": "execute_result"
    }
   ],
   "source": [
    "# Renaming columns to match Set 1\n",
    "race_and_qualy_and_drivers_and_teams_and_F1_Insigths_Pro_2023_df.rename(columns={\n",
    "    'Country_x': 'Country',\n",
    "    'Year_x':'Year',\n",
    "    'City_x':'City',\n",
    "    'Circuit Name_x':'Circuit Name',\n",
    "    'Driver_x':'Driver',\n",
    "    'Team_x': 'Team'\n",
    "}, inplace=True)\n",
    "race_and_qualy_and_drivers_and_teams_and_F1_Insigths_Pro_2023_df.columns"
   ]
  },
  {
   "cell_type": "code",
   "execution_count": 108,
   "id": "739aa2f2",
   "metadata": {},
   "outputs": [
    {
     "data": {
      "text/plain": [
       "(440, 61)"
      ]
     },
     "execution_count": 108,
     "metadata": {},
     "output_type": "execute_result"
    }
   ],
   "source": [
    "race_and_qualy_and_drivers_and_teams_and_F1_Insigths_Pro_2023_df.shape"
   ]
  },
  {
   "cell_type": "markdown",
   "id": "7d5c22f9",
   "metadata": {},
   "source": [
    "# ------------------------------------------------------------------------------------"
   ]
  },
  {
   "cell_type": "markdown",
   "id": "133d0f75",
   "metadata": {},
   "source": [
    "# 6. Joining 2022 and 2023 File Datasets"
   ]
  },
  {
   "cell_type": "code",
   "execution_count": 109,
   "id": "ce3d447e",
   "metadata": {},
   "outputs": [
    {
     "data": {
      "text/plain": [
       "(440, 61)"
      ]
     },
     "execution_count": 109,
     "metadata": {},
     "output_type": "execute_result"
    }
   ],
   "source": [
    "race_and_qualy_and_drivers_and_teams_and_F1_Insights_Pro_2022_df.shape"
   ]
  },
  {
   "cell_type": "code",
   "execution_count": 110,
   "id": "342b903d",
   "metadata": {},
   "outputs": [
    {
     "data": {
      "text/plain": [
       "(440, 61)"
      ]
     },
     "execution_count": 110,
     "metadata": {},
     "output_type": "execute_result"
    }
   ],
   "source": [
    "race_and_qualy_and_drivers_and_teams_and_F1_Insigths_Pro_2023_df.shape"
   ]
  },
  {
   "cell_type": "code",
   "execution_count": 111,
   "id": "da029b7c",
   "metadata": {},
   "outputs": [],
   "source": [
    "# Concatenate both DataFrames vertically\n",
    "F1_Insights_Pro_Final_dataset_df = pd.concat([race_and_qualy_and_drivers_and_teams_and_F1_Insights_Pro_2022_df, \n",
    "                         race_and_qualy_and_drivers_and_teams_and_F1_Insigths_Pro_2023_df], ignore_index=True)"
   ]
  },
  {
   "cell_type": "code",
   "execution_count": 112,
   "id": "25611748",
   "metadata": {},
   "outputs": [
    {
     "data": {
      "text/plain": [
       "(880, 61)"
      ]
     },
     "execution_count": 112,
     "metadata": {},
     "output_type": "execute_result"
    }
   ],
   "source": [
    "F1_Insights_Pro_Final_dataset_df.shape"
   ]
  },
  {
   "cell_type": "code",
   "execution_count": 113,
   "id": "3cad007a",
   "metadata": {},
   "outputs": [],
   "source": [
    "#Exporting the final dataset to a csv file \n",
    "F1_Insights_Pro_Final_dataset_df.to_csv('F1_Insights_Pro_Final_dataset.csv', index = False)"
   ]
  }
 ],
 "metadata": {
  "kernelspec": {
   "display_name": "Python 3 (ipykernel)",
   "language": "python",
   "name": "python3"
  },
  "language_info": {
   "codemirror_mode": {
    "name": "ipython",
    "version": 3
   },
   "file_extension": ".py",
   "mimetype": "text/x-python",
   "name": "python",
   "nbconvert_exporter": "python",
   "pygments_lexer": "ipython3",
   "version": "3.11.7"
  }
 },
 "nbformat": 4,
 "nbformat_minor": 5
}
